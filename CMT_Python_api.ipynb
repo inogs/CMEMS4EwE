{
 "cells": [
  {
   "cell_type": "markdown",
   "id": "152d3245-6275-4387-a14e-8a16a7fa1b89",
   "metadata": {},
   "source": [
    "![header](logos/logo.png)"
   ]
  },
  {
   "cell_type": "markdown",
   "id": "dc45876d-6e51-40e9-b9cd-09b1ee0a3ec0",
   "metadata": {},
   "source": [
    "<center><h2> Ecopath 40 Years - Ostend, 7 June 2024</h2></center>\n",
    "\n",
    "<center><h4> Downloading Copernicus Marine Service products using the Python API </h4></center>"
   ]
  },
  {
   "cell_type": "markdown",
   "id": "3e44b223-64ee-437d-a000-46c341b83e0a",
   "metadata": {},
   "source": [
    "# 1. Introduction\n",
    "\n",
    "This is a modify version of a Jupyter notebook developed by Ergane Fouchet and proposed during the 2022 Copernicus Marine Service\n",
    "Mediterranean Sea Training Workshop. The original version can be downloaded\n",
    "[here](https://marine.copernicus.eu/services/user-learning-services/mediterranean-sea-training-2022-discover-copernicus-marine-service)\n",
    "\n",
    "Welcome to this Copernicus Marine Service training over the Mediterranean Sea ! \n",
    "\n",
    "In this Jupyter Notebook, you will learn everything you need to access and download the Copernicus Marine Service products with the **Copernicus Marine Toolbox**. To do so, we are going to follow a basic exercise whose objective will be to download the Mediterranean Sea temperature and chlorophyll concentration in several different ways.\n",
    "\n",
    "In this notebook, we will use the **Copernicus Marine Toolbox Python API**."
   ]
  },
  {
   "cell_type": "markdown",
   "id": "7c579096-69ce-4963-9282-d473e435674d",
   "metadata": {},
   "source": [
    "# 2. Presentation and access to the data\n",
    "\n",
    "We are going to work with 2 Copernicus Marine Service datasets. In the following sections, you will learn how to find information on these products and how to access them.\n",
    "\n",
    "## 2.1. Presentation of the products used\n",
    "\n",
    "From the Copernicus Marine Service [catalogue](https://resources.marine.copernicus.eu/products), you can explore all the products available with many filters to select the region you are interested in, the parameters you want to study, etc. \n",
    "\n",
    "In this exercise, we are interested in the sea temperature and in the chlorophyll concentration; we will get the data from the following two products: \n",
    "- The [*Mediterranean Sea Physics Reanalysis*](https://data.marine.copernicus.eu/product/MEDSEA_MULTIYEAR_PHY_006_004/description) model for the temperature;\n",
    "- The [*Mediterranean Sea Biogechemistry Reanalysis*](https://data.marine.copernicus.eu/product/MEDSEA_MULTIYEAR_BGC_006_008/description) model;\n",
    "\n",
    "The links associated to the products will direct you to the catalogue information page, where you can find the description of the product, its temporal and spatial resolution, processing level, temporal coverage and more. \n",
    "\n",
    "<div class=\"alert alert-block alert-warning\">\n",
    "    <b>Get Copernicus Marine Service User credentials</b>\n",
    "<hr>\n",
    "    Whatever way you choose to download the products, you will need to have by your Copernicus Marine Service User credentials. If you are not registered yet, you can get them from <a href=\"http://marine.copernicus.eu/services-portfolio/register-now/\" target=\"_blank\">Copernicus Marine Service registration page</a>.\n",
    "\n"
   ]
  },
  {
   "cell_type": "markdown",
   "id": "df146354-ad9d-451b-ac48-9f226bdd6f72",
   "metadata": {},
   "source": [
    "## 2.2. The Copernicus Marine Toolbox\n",
    "\n",
    "The **Copernicus Marine Toolbox** is a software that offers capabilities through both Command Line Interface (CLI) and Python API:\n",
    "\n",
    "- Metadata Information: List and retrieve metadata information on all variables, datasets, products, and their associated documentation.\n",
    "- Subset Datasets: Subset datasets to extract only the parts of interest, in preferred format, such as Analysis-Ready Cloud-Optimized (ARCO) Zarr or NetCDF file format.\n",
    "- Advanced Filters: Apply simple or advanced filters to get multiple files, in original formats like NetCDF/GeoTIFF, via direct Marine Data Store connections.\n",
    "- No Quotas: Enjoy no quotas, neither on volume size nor bandwidth.\n",
    "\n",
    "In this notebook we will focus on its Python API. To use the **Copernicus Marine Toolbox** inside a Python program, you need to import it"
   ]
  },
  {
   "cell_type": "code",
   "execution_count": 1,
   "id": "b4d64ae5-9772-4b04-9519-7c95fd9ba906",
   "metadata": {},
   "outputs": [],
   "source": [
    "import copernicusmarine"
   ]
  },
  {
   "cell_type": "markdown",
   "id": "4749c619-dd22-4517-867b-e8e7ad7d0300",
   "metadata": {},
   "source": [
    "Before starting, register your credentials in the Copernicus Marine Toolbox, to use it freely from now on"
   ]
  },
  {
   "cell_type": "code",
   "execution_count": 4,
   "id": "d3425615-3bb0-41a5-9c49-974268926f93",
   "metadata": {},
   "outputs": [
    {
     "name": "stdout",
     "output_type": "stream",
     "text": [
      "INFO - 2024-06-03T15:03:54Z - You are already logged in. Skipping login.\n"
     ]
    },
    {
     "data": {
      "text/plain": [
       "True"
      ]
     },
     "execution_count": 4,
     "metadata": {},
     "output_type": "execute_result"
    }
   ],
   "source": [
    "USERNAME = \"PUT_YOUR_USERNAME_HERE\"\n",
    "PASSWORD = \"PUT_YOUR_PASSWORD_HERE\"\n",
    "\n",
    "copernicusmarine.login(username=USERNAME, password=PASSWORD, skip_if_user_logged_in=True)"
   ]
  },
  {
   "cell_type": "markdown",
   "id": "c0658525-825d-4b24-9da6-0a879bd8cb6f",
   "metadata": {},
   "source": [
    "## 2.3. Exploring the product with *copernicusmarine.describe*\n",
    "\n"
   ]
  },
  {
   "cell_type": "markdown",
   "id": "ccda4cc4-b41b-4072-9d41-79cc5c0087f2",
   "metadata": {},
   "source": [
    "In the previous lecture, you should have learn how to obtain information about the Copernicus products you want to use.\n",
    "\n",
    "You can also obtain some information about a product using the CLI of the Copernicus Marine Toolbox; in this case we examinate the dataset `cmems_mod_med_phy-tem_my_4.2km_P1Y-m` that contains the temperature:"
   ]
  },
  {
   "cell_type": "code",
   "execution_count": 11,
   "id": "0dc414f8-bdc9-4838-80ae-b1f3842e8e81",
   "metadata": {},
   "outputs": [
    {
     "name": "stdout",
     "output_type": "stream",
     "text": [
      "ERROR - 2024-06-03T15:07:08Z - Client version 1.2.1 is not compatible with current backend service. Please update to the latest client version.\n",
      "ERROR - 2024-06-03T15:07:08Z - Client version 1.2.1 is not compatible with current backend service. Please update to the latest client version.\n",
      "{'products': [{'description': 'The Med MFC physical multiyear product is '\n",
      "                              'generated by a numerical system composed of an '\n",
      "                              'hydrodynamic model, supplied by the Nucleous '\n",
      "                              'for European Modelling of the Ocean (NEMO) and '\n",
      "                              'a variational data assimilation scheme '\n",
      "                              '(OceanVAR) for temperature and salinity '\n",
      "                              'vertical profiles and satellite Sea Level '\n",
      "                              'Anomaly along track data. It contains a '\n",
      "                              'reanalysis dataset and an interim dataset which '\n",
      "                              'covers the period after the reanalysis until 1 '\n",
      "                              'month before present. The model horizontal grid '\n",
      "                              'resolution is 1/24˚ (ca. 4-5 km) and the '\n",
      "                              'unevenly spaced vertical levels are 141. \\n'\n",
      "                              '\\n'\n",
      "                              '**Product Citation**: \\n'\n",
      "                              'Please refer to our Technical FAQ for citing '\n",
      "                              'products\\n'\n",
      "                              '\\n'\n",
      "                              '**DOI (Product)**: \\n'\n",
      "                              'https://doi.org/10.25423/CMCC/MEDSEA_MULTIYEAR_PHY_006_004_E3R1\\n'\n",
      "                              '\\n'\n",
      "                              '**DOI (Interim dataset)**:\\n'\n",
      "                              'https://doi.org/10.25423/CMCC/MEDSEA_MULTIYEAR_PHY_006_004_E3R1I\\n'\n",
      "                              '\\n'\n",
      "                              '**References:**\\n'\n",
      "                              '\\n'\n",
      "                              '* Escudier, R., Clementi, E., Omar, M., '\n",
      "                              'Cipollone, A., Pistoia, J., Aydogdu, A., Drudi, '\n",
      "                              'M., Grandi, A., Lyubartsev, V., Lecci, R., '\n",
      "                              'Cretí, S., Masina, S., Coppini, G., & Pinardi, '\n",
      "                              'N. (2020). Mediterranean Sea Physical '\n",
      "                              'Reanalysis (CMEMS MED-Currents) (Version 1) '\n",
      "                              '[Data set]. Copernicus Monitoring Environment '\n",
      "                              'Marine Service (CMEMS). '\n",
      "                              'https://doi.org/10.25423/CMCC/MEDSEA_MULTIYEAR_PHY_006_004_E3R1\\n'\n",
      "                              '* Escudier, R., Clementi, E., Cipollone, A., '\n",
      "                              'Pistoia, J., Drudi, M., Grandi, A., Lyubartsev, '\n",
      "                              'V., Lecci, R., Aydogdu, A., Delrosso, D., Omar, '\n",
      "                              'M., Masina, S., Coppini G., Pinardi, N. (2021). '\n",
      "                              'A High Resolution Reanalysis for the '\n",
      "                              'Mediterranean Sea. Frontiers in Earth Science, '\n",
      "                              '9, 1060, '\n",
      "                              'https://www.frontiersin.org/article/10.3389/feart.2021.702285, '\n",
      "                              'DOI=10.3389/feart.2021.702285\\n'\n",
      "                              '* Nigam, T., Escudier, R., Pistoia, J., '\n",
      "                              'Aydogdu, A., Omar, M., Clementi, E., Cipollone, '\n",
      "                              'A., Drudi, M., Grandi, A., Mariani, A., '\n",
      "                              'Lyubartsev, V., Lecci, R., Cretí, S., Masina, '\n",
      "                              'S., Coppini, G., & Pinardi, N. (2021). '\n",
      "                              'Mediterranean Sea Physical Reanalysis INTERIM '\n",
      "                              '(CMEMS MED-Currents, E3R1i system) (Version 1) '\n",
      "                              '[Data set]. Copernicus Monitoring Environment '\n",
      "                              'Marine Service (CMEMS). '\n",
      "                              'https://doi.org/10.25423/CMCC/MEDSEA_MULTIYEAR_PHY_006_004_E3R1I\\n',\n",
      "               'digital_object_identifier': '10.25423/CMCC/MEDSEA_MULTIYEAR_PHY_006_004_E3R1',\n",
      "               'processing_level': 'Level 4',\n",
      "               'product_id': 'MEDSEA_MULTIYEAR_PHY_006_004',\n",
      "               'production_center': 'CMCC (Italy)',\n",
      "               'sources': ['Numerical models'],\n",
      "               'thumbnail_url': 'https://mdl-metadata.s3.waw3-1.cloudferro.com/metadata/thumbnails/MEDSEA_MULTIYEAR_PHY_006_004.jpg',\n",
      "               'title': 'Mediterranean Sea Physics Reanalysis'}]}\n"
     ]
    }
   ],
   "source": [
    "datasets = ['cmems_mod_med_phy-tem_my_4.2km_P1Y-m']\n",
    "\n",
    "json_data = copernicusmarine.describe(contains=datasets, include_description=True)\n",
    "\n",
    "from pprint import pprint\n",
    "pprint(json_data)"
   ]
  },
  {
   "cell_type": "markdown",
   "id": "a37f540a-a6ff-4827-8f77-cd6635876d04",
   "metadata": {},
   "source": [
    "You can check which options the `describe` function can handle by calling the help with the `?`"
   ]
  },
  {
   "cell_type": "code",
   "execution_count": 13,
   "id": "b01e3573-f660-4e4c-9785-5456acedd3a8",
   "metadata": {},
   "outputs": [
    {
     "data": {
      "text/plain": [
       "\u001b[0;31mSignature:\u001b[0m\n",
       "\u001b[0mcopernicusmarine\u001b[0m\u001b[0;34m.\u001b[0m\u001b[0mdescribe\u001b[0m\u001b[0;34m(\u001b[0m\u001b[0;34m\u001b[0m\n",
       "\u001b[0;34m\u001b[0m    \u001b[0minclude_description\u001b[0m\u001b[0;34m:\u001b[0m \u001b[0mbool\u001b[0m \u001b[0;34m=\u001b[0m \u001b[0;32mFalse\u001b[0m\u001b[0;34m,\u001b[0m\u001b[0;34m\u001b[0m\n",
       "\u001b[0;34m\u001b[0m    \u001b[0minclude_datasets\u001b[0m\u001b[0;34m:\u001b[0m \u001b[0mbool\u001b[0m \u001b[0;34m=\u001b[0m \u001b[0;32mFalse\u001b[0m\u001b[0;34m,\u001b[0m\u001b[0;34m\u001b[0m\n",
       "\u001b[0;34m\u001b[0m    \u001b[0minclude_keywords\u001b[0m\u001b[0;34m:\u001b[0m \u001b[0mbool\u001b[0m \u001b[0;34m=\u001b[0m \u001b[0;32mFalse\u001b[0m\u001b[0;34m,\u001b[0m\u001b[0;34m\u001b[0m\n",
       "\u001b[0;34m\u001b[0m    \u001b[0minclude_all_versions\u001b[0m\u001b[0;34m:\u001b[0m \u001b[0mbool\u001b[0m \u001b[0;34m=\u001b[0m \u001b[0;32mFalse\u001b[0m\u001b[0;34m,\u001b[0m\u001b[0;34m\u001b[0m\n",
       "\u001b[0;34m\u001b[0m    \u001b[0mcontains\u001b[0m\u001b[0;34m:\u001b[0m \u001b[0mlist\u001b[0m\u001b[0;34m[\u001b[0m\u001b[0mstr\u001b[0m\u001b[0;34m]\u001b[0m \u001b[0;34m=\u001b[0m \u001b[0;34m[\u001b[0m\u001b[0;34m]\u001b[0m\u001b[0;34m,\u001b[0m\u001b[0;34m\u001b[0m\n",
       "\u001b[0;34m\u001b[0m    \u001b[0moverwrite_metadata_cache\u001b[0m\u001b[0;34m:\u001b[0m \u001b[0mbool\u001b[0m \u001b[0;34m=\u001b[0m \u001b[0;32mFalse\u001b[0m\u001b[0;34m,\u001b[0m\u001b[0;34m\u001b[0m\n",
       "\u001b[0;34m\u001b[0m    \u001b[0mno_metadata_cache\u001b[0m\u001b[0;34m:\u001b[0m \u001b[0mbool\u001b[0m \u001b[0;34m=\u001b[0m \u001b[0;32mFalse\u001b[0m\u001b[0;34m,\u001b[0m\u001b[0;34m\u001b[0m\n",
       "\u001b[0;34m\u001b[0m    \u001b[0mdisable_progress_bar\u001b[0m\u001b[0;34m:\u001b[0m \u001b[0mbool\u001b[0m \u001b[0;34m=\u001b[0m \u001b[0;32mFalse\u001b[0m\u001b[0;34m,\u001b[0m\u001b[0;34m\u001b[0m\n",
       "\u001b[0;34m\u001b[0m    \u001b[0mstaging\u001b[0m\u001b[0;34m:\u001b[0m \u001b[0mbool\u001b[0m \u001b[0;34m=\u001b[0m \u001b[0;32mFalse\u001b[0m\u001b[0;34m,\u001b[0m\u001b[0;34m\u001b[0m\n",
       "\u001b[0;34m\u001b[0m\u001b[0;34m)\u001b[0m \u001b[0;34m->\u001b[0m \u001b[0mdict\u001b[0m\u001b[0;34m[\u001b[0m\u001b[0mstr\u001b[0m\u001b[0;34m,\u001b[0m \u001b[0mtyping\u001b[0m\u001b[0;34m.\u001b[0m\u001b[0mAny\u001b[0m\u001b[0;34m]\u001b[0m\u001b[0;34m\u001b[0m\u001b[0;34m\u001b[0m\u001b[0m\n",
       "\u001b[0;31mDocstring:\u001b[0m\n",
       "Retrieve metadata information from the Copernicus Marine catalogue.\n",
       "\n",
       "This function fetches metadata information from the Copernicus Marine catalogue\n",
       "based on specified parameters and options.\n",
       "\n",
       "Args:\n",
       "    include_description (bool, optional): Whether to include description for each item. Defaults to False.\n",
       "    include_datasets (bool, optional): Whether to include dataset information. Defaults to False.\n",
       "    include_keywords (bool, optional): Whether to include keywords for each item. Defaults to False.\n",
       "    include_all_versions (bool, optional): Whether to include all versions of each item. Defaults to False.\n",
       "    contains (list[str], optional): List of strings to filter items containing these values. Defaults to [].\n",
       "    overwrite_metadata_cache (bool, optional): Whether to overwrite the metadata cache. Defaults to False.\n",
       "    no_metadata_cache (bool, optional): Whether to skip using the metadata cache. Defaults to False.\n",
       "\n",
       "Returns:\n",
       "    dict[str, Any]: A dictionary containing the retrieved metadata information.\n",
       "\u001b[0;31mFile:\u001b[0m      /opt/environments/conda-2023.09/envs/copernicusmarine-new/lib/python3.12/site-packages/copernicusmarine/python_interface/describe.py\n",
       "\u001b[0;31mType:\u001b[0m      function"
      ]
     },
     "metadata": {},
     "output_type": "display_data"
    }
   ],
   "source": [
    "copernicusmarine.describe?"
   ]
  },
  {
   "cell_type": "markdown",
   "id": "bc3c83d4-f555-4fef-9640-31eb214477d9",
   "metadata": {},
   "source": [
    "## 2.4. Download with *copernicusmarine.get*\n",
    "\n",
    "The **get** function of the **Copernicus Marine Toolbox Python API** is the most basic way to download files from the Copernicus Data Store. It retrieves the files in the exact format produced by the production center. This means that filtering is not applicable; you cannot apply any criteria to select data, only download an entire file of the product. You can see the structure of the directories of the product in the `DATA ACCESS` section of the product web page in the catalogue (click on `Browse`).\n",
    "\n",
    "For most products, the NetCDF files contain one day of data and are grouped by months in the directories of the **Copernicus Marine Toolbox** option."
   ]
  },
  {
   "cell_type": "markdown",
   "id": "c14d1bea-b192-4b89-abad-9b9e17002c33",
   "metadata": {},
   "source": [
    "In the following cell, we will download the temperature data for the first nine days of February 2019 for the entire Mediterranean Sea"
   ]
  },
  {
   "cell_type": "code",
   "execution_count": 18,
   "id": "4e8d2436-46a7-4040-b299-f19adc434cf1",
   "metadata": {},
   "outputs": [
    {
     "name": "stdout",
     "output_type": "stream",
     "text": [
      "ERROR - 2024-06-03T15:11:51Z - Client version 1.2.1 is not compatible with current backend service. Please update to the latest client version.\n",
      "ERROR - 2024-06-03T15:11:51Z - Client version 1.2.1 is not compatible with current backend service. Please update to the latest client version.\n",
      "ERROR - 2024-06-03T15:11:51Z - Client version 1.2.1 is not compatible with current backend service. Please update to the latest client version.\n",
      "INFO - 2024-06-03T15:11:52Z - Dataset version was not specified, the latest one was selected: \"202012\"\n",
      "INFO - 2024-06-03T15:11:52Z - Dataset part was not specified, the first one was selected: \"default\"\n",
      "INFO - 2024-06-03T15:11:52Z - Service was not specified, the default one was selected: \"original-files\"\n",
      "INFO - 2024-06-03T15:11:52Z - Downloading using service original-files...\n"
     ]
    },
    {
     "name": "stderr",
     "output_type": "stream",
     "text": [
      "100%|██████████████████████████████████████████████████████████████████████████████████████████████████████████████████████████████████████████████████████████████████████████████████████████████████████████████████████████████████████████████████████████████████████████████████████████| 9/9 [00:07<00:00,  1.16it/s]\n"
     ]
    }
   ],
   "source": [
    "from pathlib import Path\n",
    "\n",
    "DATASET_ID = \"med-cmcc-tem-rean-d\"\n",
    "FILE_FILTER = \"*2019020*\"\n",
    "OUTPUT_DIR = Path(\"data\")\n",
    "\n",
    "output_files = copernicusmarine.get(\n",
    "    dataset_id=DATASET_ID,\n",
    "    filter=FILE_FILTER,\n",
    "    output_directory=OUTPUT_DIR,\n",
    "    force_download=True\n",
    ")"
   ]
  },
  {
   "cell_type": "markdown",
   "id": "6f1d192a-37f6-417c-a642-20f037e30a3b",
   "metadata": {},
   "source": [
    "The output of the method is a list that contains all the files that have been downloaded"
   ]
  },
  {
   "cell_type": "code",
   "execution_count": 21,
   "id": "7eeb4471-faab-4b57-b3c6-92b28f3c44b6",
   "metadata": {},
   "outputs": [
    {
     "data": {
      "text/plain": [
       "PosixPath('data/MEDSEA_MULTIYEAR_PHY_006_004/med-cmcc-tem-rean-d_202012/2019/02/20190201_d-CMCC--TEMP-MFSe3r1-MED-b20200901_re-sv01.00_(2).nc')"
      ]
     },
     "execution_count": 21,
     "metadata": {},
     "output_type": "execute_result"
    }
   ],
   "source": [
    "output_files[0]"
   ]
  },
  {
   "cell_type": "markdown",
   "id": "cdf95ced-6818-48b0-a8f5-8768cb15ab08",
   "metadata": {},
   "source": [
    "You can see all the options of the function `get` by using again the flag `?`"
   ]
  },
  {
   "cell_type": "code",
   "execution_count": 22,
   "id": "c9588daa-4118-4343-902d-14e6bab4be76",
   "metadata": {},
   "outputs": [
    {
     "data": {
      "text/plain": [
       "\u001b[0;31mSignature:\u001b[0m\n",
       "\u001b[0mcopernicusmarine\u001b[0m\u001b[0;34m.\u001b[0m\u001b[0mget\u001b[0m\u001b[0;34m(\u001b[0m\u001b[0;34m\u001b[0m\n",
       "\u001b[0;34m\u001b[0m    \u001b[0mdataset_url\u001b[0m\u001b[0;34m:\u001b[0m \u001b[0mOptional\u001b[0m\u001b[0;34m[\u001b[0m\u001b[0mstr\u001b[0m\u001b[0;34m]\u001b[0m \u001b[0;34m=\u001b[0m \u001b[0;32mNone\u001b[0m\u001b[0;34m,\u001b[0m\u001b[0;34m\u001b[0m\n",
       "\u001b[0;34m\u001b[0m    \u001b[0mdataset_id\u001b[0m\u001b[0;34m:\u001b[0m \u001b[0mOptional\u001b[0m\u001b[0;34m[\u001b[0m\u001b[0mstr\u001b[0m\u001b[0;34m]\u001b[0m \u001b[0;34m=\u001b[0m \u001b[0;32mNone\u001b[0m\u001b[0;34m,\u001b[0m\u001b[0;34m\u001b[0m\n",
       "\u001b[0;34m\u001b[0m    \u001b[0mdataset_version\u001b[0m\u001b[0;34m:\u001b[0m \u001b[0mOptional\u001b[0m\u001b[0;34m[\u001b[0m\u001b[0mstr\u001b[0m\u001b[0;34m]\u001b[0m \u001b[0;34m=\u001b[0m \u001b[0;32mNone\u001b[0m\u001b[0;34m,\u001b[0m\u001b[0;34m\u001b[0m\n",
       "\u001b[0;34m\u001b[0m    \u001b[0mdataset_part\u001b[0m\u001b[0;34m:\u001b[0m \u001b[0mOptional\u001b[0m\u001b[0;34m[\u001b[0m\u001b[0mstr\u001b[0m\u001b[0;34m]\u001b[0m \u001b[0;34m=\u001b[0m \u001b[0;32mNone\u001b[0m\u001b[0;34m,\u001b[0m\u001b[0;34m\u001b[0m\n",
       "\u001b[0;34m\u001b[0m    \u001b[0musername\u001b[0m\u001b[0;34m:\u001b[0m \u001b[0mOptional\u001b[0m\u001b[0;34m[\u001b[0m\u001b[0mstr\u001b[0m\u001b[0;34m]\u001b[0m \u001b[0;34m=\u001b[0m \u001b[0;32mNone\u001b[0m\u001b[0;34m,\u001b[0m\u001b[0;34m\u001b[0m\n",
       "\u001b[0;34m\u001b[0m    \u001b[0mpassword\u001b[0m\u001b[0;34m:\u001b[0m \u001b[0mOptional\u001b[0m\u001b[0;34m[\u001b[0m\u001b[0mstr\u001b[0m\u001b[0;34m]\u001b[0m \u001b[0;34m=\u001b[0m \u001b[0;32mNone\u001b[0m\u001b[0;34m,\u001b[0m\u001b[0;34m\u001b[0m\n",
       "\u001b[0;34m\u001b[0m    \u001b[0mno_directories\u001b[0m\u001b[0;34m:\u001b[0m \u001b[0mbool\u001b[0m \u001b[0;34m=\u001b[0m \u001b[0;32mFalse\u001b[0m\u001b[0;34m,\u001b[0m\u001b[0;34m\u001b[0m\n",
       "\u001b[0;34m\u001b[0m    \u001b[0mshow_outputnames\u001b[0m\u001b[0;34m:\u001b[0m \u001b[0mbool\u001b[0m \u001b[0;34m=\u001b[0m \u001b[0;32mFalse\u001b[0m\u001b[0;34m,\u001b[0m\u001b[0;34m\u001b[0m\n",
       "\u001b[0;34m\u001b[0m    \u001b[0moutput_directory\u001b[0m\u001b[0;34m:\u001b[0m \u001b[0mUnion\u001b[0m\u001b[0;34m[\u001b[0m\u001b[0mpathlib\u001b[0m\u001b[0;34m.\u001b[0m\u001b[0mPath\u001b[0m\u001b[0;34m,\u001b[0m \u001b[0mstr\u001b[0m\u001b[0;34m,\u001b[0m \u001b[0mNoneType\u001b[0m\u001b[0;34m]\u001b[0m \u001b[0;34m=\u001b[0m \u001b[0;32mNone\u001b[0m\u001b[0;34m,\u001b[0m\u001b[0;34m\u001b[0m\n",
       "\u001b[0;34m\u001b[0m    \u001b[0mcredentials_file\u001b[0m\u001b[0;34m:\u001b[0m \u001b[0mUnion\u001b[0m\u001b[0;34m[\u001b[0m\u001b[0mpathlib\u001b[0m\u001b[0;34m.\u001b[0m\u001b[0mPath\u001b[0m\u001b[0;34m,\u001b[0m \u001b[0mstr\u001b[0m\u001b[0;34m,\u001b[0m \u001b[0mNoneType\u001b[0m\u001b[0;34m]\u001b[0m \u001b[0;34m=\u001b[0m \u001b[0;32mNone\u001b[0m\u001b[0;34m,\u001b[0m\u001b[0;34m\u001b[0m\n",
       "\u001b[0;34m\u001b[0m    \u001b[0mforce_download\u001b[0m\u001b[0;34m:\u001b[0m \u001b[0mbool\u001b[0m \u001b[0;34m=\u001b[0m \u001b[0;32mFalse\u001b[0m\u001b[0;34m,\u001b[0m\u001b[0;34m\u001b[0m\n",
       "\u001b[0;34m\u001b[0m    \u001b[0moverwrite_output_data\u001b[0m\u001b[0;34m:\u001b[0m \u001b[0mbool\u001b[0m \u001b[0;34m=\u001b[0m \u001b[0;32mFalse\u001b[0m\u001b[0;34m,\u001b[0m\u001b[0;34m\u001b[0m\n",
       "\u001b[0;34m\u001b[0m    \u001b[0mrequest_file\u001b[0m\u001b[0;34m:\u001b[0m \u001b[0mUnion\u001b[0m\u001b[0;34m[\u001b[0m\u001b[0mpathlib\u001b[0m\u001b[0;34m.\u001b[0m\u001b[0mPath\u001b[0m\u001b[0;34m,\u001b[0m \u001b[0mstr\u001b[0m\u001b[0;34m,\u001b[0m \u001b[0mNoneType\u001b[0m\u001b[0;34m]\u001b[0m \u001b[0;34m=\u001b[0m \u001b[0;32mNone\u001b[0m\u001b[0;34m,\u001b[0m\u001b[0;34m\u001b[0m\n",
       "\u001b[0;34m\u001b[0m    \u001b[0mservice\u001b[0m\u001b[0;34m:\u001b[0m \u001b[0mOptional\u001b[0m\u001b[0;34m[\u001b[0m\u001b[0mstr\u001b[0m\u001b[0;34m]\u001b[0m \u001b[0;34m=\u001b[0m \u001b[0;32mNone\u001b[0m\u001b[0;34m,\u001b[0m\u001b[0;34m\u001b[0m\n",
       "\u001b[0;34m\u001b[0m    \u001b[0moverwrite_metadata_cache\u001b[0m\u001b[0;34m:\u001b[0m \u001b[0mbool\u001b[0m \u001b[0;34m=\u001b[0m \u001b[0;32mFalse\u001b[0m\u001b[0;34m,\u001b[0m\u001b[0;34m\u001b[0m\n",
       "\u001b[0;34m\u001b[0m    \u001b[0mno_metadata_cache\u001b[0m\u001b[0;34m:\u001b[0m \u001b[0mbool\u001b[0m \u001b[0;34m=\u001b[0m \u001b[0;32mFalse\u001b[0m\u001b[0;34m,\u001b[0m\u001b[0;34m\u001b[0m\n",
       "\u001b[0;34m\u001b[0m    \u001b[0mfilter\u001b[0m\u001b[0;34m:\u001b[0m \u001b[0mOptional\u001b[0m\u001b[0;34m[\u001b[0m\u001b[0mstr\u001b[0m\u001b[0;34m]\u001b[0m \u001b[0;34m=\u001b[0m \u001b[0;32mNone\u001b[0m\u001b[0;34m,\u001b[0m\u001b[0;34m\u001b[0m\n",
       "\u001b[0;34m\u001b[0m    \u001b[0mregex\u001b[0m\u001b[0;34m:\u001b[0m \u001b[0mOptional\u001b[0m\u001b[0;34m[\u001b[0m\u001b[0mstr\u001b[0m\u001b[0;34m]\u001b[0m \u001b[0;34m=\u001b[0m \u001b[0;32mNone\u001b[0m\u001b[0;34m,\u001b[0m\u001b[0;34m\u001b[0m\n",
       "\u001b[0;34m\u001b[0m    \u001b[0mfile_list\u001b[0m\u001b[0;34m:\u001b[0m \u001b[0mUnion\u001b[0m\u001b[0;34m[\u001b[0m\u001b[0mpathlib\u001b[0m\u001b[0;34m.\u001b[0m\u001b[0mPath\u001b[0m\u001b[0;34m,\u001b[0m \u001b[0mstr\u001b[0m\u001b[0;34m,\u001b[0m \u001b[0mNoneType\u001b[0m\u001b[0;34m]\u001b[0m \u001b[0;34m=\u001b[0m \u001b[0;32mNone\u001b[0m\u001b[0;34m,\u001b[0m\u001b[0;34m\u001b[0m\n",
       "\u001b[0;34m\u001b[0m    \u001b[0mcreate_file_list\u001b[0m\u001b[0;34m:\u001b[0m \u001b[0mOptional\u001b[0m\u001b[0;34m[\u001b[0m\u001b[0mstr\u001b[0m\u001b[0;34m]\u001b[0m \u001b[0;34m=\u001b[0m \u001b[0;32mNone\u001b[0m\u001b[0;34m,\u001b[0m\u001b[0;34m\u001b[0m\n",
       "\u001b[0;34m\u001b[0m    \u001b[0mdownload_file_list\u001b[0m\u001b[0;34m:\u001b[0m \u001b[0mbool\u001b[0m \u001b[0;34m=\u001b[0m \u001b[0;32mFalse\u001b[0m\u001b[0;34m,\u001b[0m\u001b[0;34m\u001b[0m\n",
       "\u001b[0;34m\u001b[0m    \u001b[0mindex_parts\u001b[0m\u001b[0;34m:\u001b[0m \u001b[0mbool\u001b[0m \u001b[0;34m=\u001b[0m \u001b[0;32mFalse\u001b[0m\u001b[0;34m,\u001b[0m\u001b[0;34m\u001b[0m\n",
       "\u001b[0;34m\u001b[0m    \u001b[0msync\u001b[0m\u001b[0;34m:\u001b[0m \u001b[0mbool\u001b[0m \u001b[0;34m=\u001b[0m \u001b[0;32mFalse\u001b[0m\u001b[0;34m,\u001b[0m\u001b[0;34m\u001b[0m\n",
       "\u001b[0;34m\u001b[0m    \u001b[0msync_delete\u001b[0m\u001b[0;34m:\u001b[0m \u001b[0mbool\u001b[0m \u001b[0;34m=\u001b[0m \u001b[0;32mFalse\u001b[0m\u001b[0;34m,\u001b[0m\u001b[0;34m\u001b[0m\n",
       "\u001b[0;34m\u001b[0m    \u001b[0mdisable_progress_bar\u001b[0m\u001b[0;34m:\u001b[0m \u001b[0mbool\u001b[0m \u001b[0;34m=\u001b[0m \u001b[0;32mFalse\u001b[0m\u001b[0;34m,\u001b[0m\u001b[0;34m\u001b[0m\n",
       "\u001b[0;34m\u001b[0m    \u001b[0mstaging\u001b[0m\u001b[0;34m:\u001b[0m \u001b[0mbool\u001b[0m \u001b[0;34m=\u001b[0m \u001b[0;32mFalse\u001b[0m\u001b[0;34m,\u001b[0m\u001b[0;34m\u001b[0m\n",
       "\u001b[0;34m\u001b[0m\u001b[0;34m)\u001b[0m \u001b[0;34m->\u001b[0m \u001b[0mList\u001b[0m\u001b[0;34m[\u001b[0m\u001b[0mpathlib\u001b[0m\u001b[0;34m.\u001b[0m\u001b[0mPath\u001b[0m\u001b[0;34m]\u001b[0m\u001b[0;34m\u001b[0m\u001b[0;34m\u001b[0m\u001b[0m\n",
       "\u001b[0;31mDocstring:\u001b[0m\n",
       "Fetches data from the Copernicus Marine server based on the provided parameters.\n",
       "\n",
       "Args:\n",
       "    dataset_url (str, optional): The URL of the dataset to retrieve.\n",
       "    dataset_id (str, optional): The unique identifier of the dataset.\n",
       "    dataset_version (str, optional): Force the use of a specific dataset version.\n",
       "    dataset_part (str, optional): Force the use of a specific dataset part.\n",
       "    username (str, optional): The username for authentication.\n",
       "    password (str, optional): The password for authentication.\n",
       "    no_directories (bool, optional): If True, downloaded files will not be organized into directories.\n",
       "    show_outputnames (bool, optional): If True, display the names of the downloaded files.\n",
       "    output_directory (Union[pathlib.Path, str], optional): The directory where downloaded files will be saved.\n",
       "    credentials_file (Union[pathlib.Path, str], optional): Path to a file containing authentication credentials.\n",
       "    force_download (bool, optional): Skip confirmation before download.\n",
       "    overwrite_output_data (bool, optional): If True, overwrite existing output files.\n",
       "    request_file (Union[pathlib.Path, str], optional): Path to a file containing request parameters.\n",
       "    service (str, optional): Force the use of a specific service.\n",
       "    overwrite_metadata_cache (bool, optional): If True, overwrite the metadata cache.\n",
       "    no_metadata_cache (bool, optional): If True, do not use the metadata cache.\n",
       "    filter (str, optional): Apply a filter to the downloaded data.\n",
       "    regex (str, optional): Apply a regular expression filter to the downloaded data.\n",
       "    file_list (Union[pathlib.Path, str], optional): A path to a text file that list filenames line by line. Filenames must match the absolute paths of the files to download.\n",
       "    create_file_list (str, optional): Option to only create a file containing the names of the the targeted files instead of downloading them. It writes the file in the directory specified with the --output-directory option (default to current directory). If specified, no other action will be performed.\n",
       "    index_parts (bool, optional): If True, download index files. Only for INSITU datasets. Temporary option.\n",
       "    sync (bool, optional): If True, synchronize the local directory with the remote directory.\n",
       "    sync_delete (bool, optional): If True, delete local files that are not present on the remote server while applying sync.\n",
       "\n",
       "Returns:\n",
       "    List[pathlib.Path]: A list of paths to the downloaded files.\n",
       "\u001b[0;31mFile:\u001b[0m      /opt/environments/conda-2023.09/envs/copernicusmarine-new/lib/python3.12/site-packages/copernicusmarine/python_interface/get.py\n",
       "\u001b[0;31mType:\u001b[0m      function"
      ]
     },
     "metadata": {},
     "output_type": "display_data"
    }
   ],
   "source": [
    "copernicusmarine.get?"
   ]
  },
  {
   "cell_type": "markdown",
   "id": "5ae100d5-fbea-44e7-9a20-1d9943a3f670",
   "metadata": {},
   "source": [
    "## 2.5. Download with *copernicusmarine.subset*\n",
    "\n",
    "Now we start the real part of this exercise! The `subset` command allows you to download a specific part of the dataset. It ignores the structure of the original product and reshapes all the data into a single file.\n",
    "\n",
    "Using `subset`, we can choose which variables to download and specify the part of the domain. For example, now we will download three years of monthly data for the temperature of the Adriatic Sea."
   ]
  },
  {
   "cell_type": "code",
   "execution_count": 32,
   "id": "ef782323-6330-4603-9117-b90369af0188",
   "metadata": {},
   "outputs": [
    {
     "name": "stdout",
     "output_type": "stream",
     "text": [
      "ERROR - 2024-06-03T16:17:10Z - Client version 1.2.1 is not compatible with current backend service. Please update to the latest client version.\n",
      "ERROR - 2024-06-03T16:17:10Z - Client version 1.2.1 is not compatible with current backend service. Please update to the latest client version.\n",
      "ERROR - 2024-06-03T16:17:10Z - Client version 1.2.1 is not compatible with current backend service. Please update to the latest client version.\n",
      "INFO - 2024-06-03T16:17:11Z - Dataset version was not specified, the latest one was selected: \"202012\"\n",
      "INFO - 2024-06-03T16:17:11Z - Dataset part was not specified, the first one was selected: \"default\"\n",
      "INFO - 2024-06-03T16:17:12Z - Service was not specified, the default one was selected: \"arco-time-series\"\n",
      "INFO - 2024-06-03T16:17:13Z - Downloading using service arco-time-series...\n",
      "INFO - 2024-06-03T16:17:14Z - Estimated size of the dataset file is 583.727 MB.\n",
      "INFO - 2024-06-03T16:17:14Z - Writing to local storage. Please wait...\n"
     ]
    },
    {
     "data": {
      "application/vnd.jupyter.widget-view+json": {
       "model_id": "832e86ef0e8f4f5ea29d2225e499af21",
       "version_major": 2,
       "version_minor": 0
      },
      "text/plain": [
       "  0%|          | 0/9195 [00:00<?, ?it/s]"
      ]
     },
     "metadata": {},
     "output_type": "display_data"
    },
    {
     "name": "stdout",
     "output_type": "stream",
     "text": [
      "INFO - 2024-06-03T16:17:27Z - Successfully downloaded to data/med-cmcc-tem-rean-m_thetao_11.50E-20.00E_40.02N-45.94N_1.02-5754.04m_2015-01-01-2018-01-01_(2).nc\n",
      "Data downloaded inside file data/med-cmcc-tem-rean-m_thetao_11.50E-20.00E_40.02N-45.94N_1.02-5754.04m_2015-01-01-2018-01-01_(2).nc\n"
     ]
    }
   ],
   "source": [
    "from pathlib import Path\n",
    "from datetime import datetime\n",
    "\n",
    "VARIABLES = ['thetao']\n",
    "\n",
    "LONGITUDE_RANGE = [11.5, 20.]\n",
    "LATITUDE_RANGE = [40., 45.979]\n",
    "\n",
    "START_DATE = datetime(2015, 1, 1)\n",
    "END_DATE = datetime(2018, 1, 1)\n",
    "\n",
    "TEMPERATURE_DATASET = \"med-cmcc-tem-rean-m\"\n",
    "TEMPERATURE_VARIABLES = ['thetao']\n",
    "OUTPUT_DIR = Path(\"data\")\n",
    "\n",
    "downloaded_data_file = copernicusmarine.subset(\n",
    "    dataset_id=TEMPERATURE_DATASET,\n",
    "    output_directory=OUTPUT_DIR,\n",
    "    variables=VARIABLES,\n",
    "    minimum_longitude=LONGITUDE_RANGE[0],\n",
    "    maximum_longitude=LONGITUDE_RANGE[1],\n",
    "    minimum_latitude=LATITUDE_RANGE[0],\n",
    "    maximum_latitude=LATITUDE_RANGE[1],\n",
    "    start_datetime=START_DATE,\n",
    "    end_datetime=END_DATE,\n",
    "    force_download=True\n",
    ")\n",
    "\n",
    "print(f'Data downloaded inside file {downloaded_data_file}')"
   ]
  },
  {
   "cell_type": "markdown",
   "id": "a6a1aaeb-b5a8-41a7-9b41-ae046d4c3adb",
   "metadata": {},
   "source": [
    "Now it's your turn! Use what you have just learned to download the chlorophyll data (variable `chl`) from the `med-ogs-pft-rean-m` dataset for the same domain for which we have just downloaded the temperature."
   ]
  },
  {
   "cell_type": "code",
   "execution_count": null,
   "id": "8baff1d3-32e9-40c9-a4c2-e38cfd342d4b",
   "metadata": {},
   "outputs": [],
   "source": []
  },
  {
   "cell_type": "code",
   "execution_count": null,
   "id": "3fc750bf-e884-466f-bfba-cbf70240cc83",
   "metadata": {},
   "outputs": [],
   "source": []
  }
 ],
 "metadata": {
  "kernelspec": {
   "display_name": "Python 3 (ipykernel)",
   "language": "python",
   "name": "python3"
  },
  "language_info": {
   "codemirror_mode": {
    "name": "ipython",
    "version": 3
   },
   "file_extension": ".py",
   "mimetype": "text/x-python",
   "name": "python",
   "nbconvert_exporter": "python",
   "pygments_lexer": "ipython3",
   "version": "3.12.2"
  }
 },
 "nbformat": 4,
 "nbformat_minor": 5
}
