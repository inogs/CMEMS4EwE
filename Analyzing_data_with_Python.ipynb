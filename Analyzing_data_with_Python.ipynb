{
 "cells": [
  {
   "cell_type": "markdown",
   "id": "86ef77c0-ea11-4b20-9a97-b09cd0478c92",
   "metadata": {},
   "source": [
    "![header](logos/logo.png)"
   ]
  },
  {
   "cell_type": "markdown",
   "id": "9026fabc-9491-4202-b0fc-1136068e98ad",
   "metadata": {},
   "source": [
    "<center><h2> Ecopath 40 Years - Ostend, 7 June 2024 </h2></center>\n",
    "\n",
    "<center><h4> Analyzing the Copernicus Marine Service products with Python </h4></center>"
   ]
  },
  {
   "cell_type": "markdown",
   "id": "ee686a60-52c0-43f2-8d91-2610c346de8b",
   "metadata": {},
   "source": [
    "# 1. Introduction\n",
    "\n",
    "In the previous tutorial, we downloaded two different datasets from two different products of the Copernicus Data Store.\n",
    "\n",
    "In this tutorial, we will focus on how to open, analyze, and extract information from the data we have downloaded. We will use Python and XArray, a package for working with labeled multi-dimensional arrays. When we need to produce a visual representation of our data, we will use Matplotlib, which is probably the most common Python library for drawing plots."
   ]
  },
  {
   "cell_type": "markdown",
   "id": "421e0f88-0a00-45a1-b983-4507bdf378c9",
   "metadata": {},
   "source": [
    "First, we must specify where the files containing the data are stored."
   ]
  },
  {
   "cell_type": "code",
   "execution_count": null,
   "id": "210cfbba-93c8-45e4-8d7a-d42929adf2c4",
   "metadata": {},
   "outputs": [],
   "source": [
    "from pathlib import Path\n",
    "\n",
    "TEMPERATURE_DATA = Path('PUT HERE THE PATH OF YOUR FILE')\n",
    "CHLOROPHYLL_DATA = Path('PUT HERE THE PATH OF YOUR FILE')"
   ]
  },
  {
   "cell_type": "markdown",
   "id": "a6b58fcc-585a-49b4-aedd-082a96389c66",
   "metadata": {},
   "source": [
    "# 2. Access to the data"
   ]
  },
  {
   "cell_type": "raw",
   "id": "07862247-e422-4a49-bf2a-794acd863aac",
   "metadata": {},
   "source": [
    "Here we import XArray and use it to open our data"
   ]
  },
  {
   "cell_type": "code",
   "execution_count": null,
   "id": "8b5c9c7b-b11d-48bf-a7f2-c90832f06913",
   "metadata": {},
   "outputs": [],
   "source": [
    "import xarray"
   ]
  },
  {
   "cell_type": "code",
   "execution_count": null,
   "id": "a2957ac3-3b4b-4c43-9028-5bf0376f12fe",
   "metadata": {},
   "outputs": [],
   "source": [
    "temperature_dataset = xarray.open_dataset(TEMPERATURE_DATA)\n",
    "temperature_dataset"
   ]
  },
  {
   "cell_type": "markdown",
   "id": "571bc45d-4582-409d-856f-dd36b9f2c8d8",
   "metadata": {},
   "source": [
    "There is a lot of information inside our files! In addition to the variable with the temperature (**thetao**), there are also the coordinates of the grid. For example, we can explore the depth levels"
   ]
  },
  {
   "cell_type": "code",
   "execution_count": null,
   "id": "7f077d5f-eaa1-4689-b630-eb3d586774fe",
   "metadata": {},
   "outputs": [],
   "source": [
    "temperature_dataset.depth"
   ]
  },
  {
   "cell_type": "markdown",
   "id": "9754654f-e66b-49cb-95a7-e435fd78e338",
   "metadata": {},
   "source": [
    "We can see that there are 141 levels. The first one is about 1 meter deep, and the last one is 5754 meters below sea level. You can get the values of this array by using `.values` and specifying which element you want. For example, if you want the 10th element"
   ]
  },
  {
   "cell_type": "code",
   "execution_count": null,
   "id": "a66b216b-e1a6-4247-8acc-d5c06ed2f08e",
   "metadata": {},
   "outputs": [],
   "source": [
    "temperature_dataset.depth.values[10]"
   ]
  },
  {
   "cell_type": "markdown",
   "id": "0bdc3943-31ae-4ecb-99f1-c1943540c1de",
   "metadata": {},
   "source": [
    "If you don't specify an index, the  `values` method returns an array with *all the elements* of the depth"
   ]
  },
  {
   "cell_type": "code",
   "execution_count": null,
   "id": "519db1ab-7071-4d90-b68c-0a3c153a6db6",
   "metadata": {},
   "outputs": [],
   "source": [
    "temperature_dataset.depth.values"
   ]
  },
  {
   "cell_type": "markdown",
   "id": "b02454c4-5109-4565-b5d3-567cde64d7af",
   "metadata": {},
   "source": [
    "You can also specify a range, for example from 2 to 5. In this case, you will get an array with all the elements in the range (from element number 2, starting from 0, to element number 5, excluded)"
   ]
  },
  {
   "cell_type": "code",
   "execution_count": null,
   "id": "75d01a4b-fa88-4b4a-ac8a-6f32b788610d",
   "metadata": {},
   "outputs": [],
   "source": [
    "temperature_dataset.depth.values[2:5]"
   ]
  },
  {
   "cell_type": "markdown",
   "id": "b0e88c90-5f71-4c20-aa77-7ba2c127ff4e",
   "metadata": {},
   "source": [
    "If you do not specify the values of the range, you will get all the values (just like when we called `values` without using brackets). It may seem unnecessary, but we will see later how we can exploit this fact"
   ]
  },
  {
   "cell_type": "code",
   "execution_count": null,
   "id": "dc4a2bb8-b005-4594-96dc-d5ac33c7ce22",
   "metadata": {},
   "outputs": [],
   "source": [
    "temperature_dataset.depth.values[:]"
   ]
  },
  {
   "cell_type": "markdown",
   "id": "cce74c06-f0a8-409c-bfbd-40a8a29dcc51",
   "metadata": {},
   "source": [
    "Levels are interesting, but we are far more interested in the values of our variable (the temperature). Everything we have said about the depth array still applies, but to identify a point on the grid, we need four coordinates: the time step, the depth, the latitude, and the longitude."
   ]
  },
  {
   "cell_type": "code",
   "execution_count": null,
   "id": "b77a8ad3-02fd-4d3d-aad6-841bf1cca84a",
   "metadata": {},
   "outputs": [],
   "source": [
    "temperature_dataset.thetao.values[7, 0, 15, 12]"
   ]
  },
  {
   "cell_type": "code",
   "execution_count": null,
   "id": "000fe60e-7150-4fbd-801b-9422aaeaa0f2",
   "metadata": {},
   "outputs": [],
   "source": [
    "print(\n",
    "    f'The temperature on the sea surface (depth index = 0) '\n",
    "    f'at time step {temperature_dataset.time.values[7]} and at coordinates '\n",
    "    f'({temperature_dataset.latitude.values[15]}, {temperature_dataset.longitude.values[12]}) '\n",
    "    f'is {temperature_dataset.thetao.values[7, 0, 15, 12]}'\n",
    ")"
   ]
  },
  {
   "cell_type": "markdown",
   "id": "bf09cede-6371-493b-a055-a7bffb073c11",
   "metadata": {},
   "source": [
    "# 3. Plotting the data"
   ]
  },
  {
   "cell_type": "markdown",
   "id": "de87275c-74f1-4e05-a8fb-55b2a702adc5",
   "metadata": {},
   "source": [
    "It's time to visualize the data within our dataset. We will need the Matplotlib package to accomplish this task. In the next cell, we assign a \"shortcut\" to matplotlib. It will be invoked simply by writing `plt`"
   ]
  },
  {
   "cell_type": "code",
   "execution_count": null,
   "id": "b4e2a32e-dfc2-4c06-ae12-0b54cf8dc8e6",
   "metadata": {},
   "outputs": [],
   "source": [
    "import matplotlib.pyplot as plt"
   ]
  },
  {
   "cell_type": "markdown",
   "id": "9e53a1bd-3236-483c-b739-d62c5d12f740",
   "metadata": {},
   "source": [
    "To draw a 1D plot, simply call the `plt.plot` method by passing two 1D arrays. A good example is plotting the values of the temperature at a specific time step and on a specific point against the depth.\n",
    "\n",
    "We already know how to obtain an array with all the depths (temperature_dataset.depth.values). To obtain a 1D array of the temperature, we will use the trick of using an empty range `[:]` on the depth, while specifying all the other indices."
   ]
  },
  {
   "cell_type": "code",
   "execution_count": null,
   "id": "9dfc7414-e3e8-4101-926b-073ff3a9cc4a",
   "metadata": {},
   "outputs": [],
   "source": [
    "depths_array = temperature_dataset.depth.values\n",
    "temperature_column = temperature_dataset.thetao.values[7, :, 15, 12]\n",
    "\n",
    "plt.xlabel('Depth [m]')\n",
    "plt.ylabel('Potential temperature [-]')\n",
    "plt.plot(depths_array, temperature_column)"
   ]
  },
  {
   "cell_type": "markdown",
   "id": "911eea35-425c-4bca-a3fc-e5da9612d2d4",
   "metadata": {},
   "source": [
    "But this is not the typical way to visualize the data of a water column. You can easily change this by adjusting the axes"
   ]
  },
  {
   "cell_type": "code",
   "execution_count": null,
   "id": "daf89348-ddd3-40c6-b069-3f483a1bab33",
   "metadata": {},
   "outputs": [],
   "source": [
    "plt.ylabel('Depth [m]')\n",
    "plt.xlabel('Potential temperature [-]')\n",
    "plt.gca().invert_yaxis()\n",
    "plt.plot(temperature_column, depths_array)"
   ]
  },
  {
   "cell_type": "markdown",
   "id": "65ea6512-10a6-4e3a-8016-07c3df6a7c57",
   "metadata": {},
   "source": [
    "To visualize a 2D map, instead, we can use the `plt.imshow` method. For example, we can generate a map of the surface at a specific timestep. This requires building a 2D array: we use again the empty range (`:`) but for two indices: the latitude and the longitude "
   ]
  },
  {
   "cell_type": "code",
   "execution_count": null,
   "id": "0f9d7cff-b8c0-4f08-b1fc-9b3c720c1a53",
   "metadata": {},
   "outputs": [],
   "source": [
    "plt.imshow(temperature_dataset.thetao.values[2, 0, :, :], origin='lower')"
   ]
  },
  {
   "cell_type": "markdown",
   "id": "c16829da-1b91-4fab-bf43-35206019e7cc",
   "metadata": {},
   "source": [
    "Can you tell why there are some white areas on the map? What happens if we increase the depth?"
   ]
  },
  {
   "cell_type": "code",
   "execution_count": null,
   "id": "6bbfca15-bfff-4826-a749-9f16f1c5853b",
   "metadata": {},
   "outputs": [],
   "source": [
    "plt.imshow(temperature_dataset.thetao.values[2, 50, :, :], origin='lower')"
   ]
  },
  {
   "cell_type": "markdown",
   "id": "e08454a2-8707-41a0-9a78-5c1f7804614b",
   "metadata": {},
   "source": [
    "How can we tell if a specific cell is inside the model or not? Here we propose a method that is quite safe even if it is a bit cumbersome. It relies on the `numpy` library, that contains many methods for manipulating arrays"
   ]
  },
  {
   "cell_type": "code",
   "execution_count": null,
   "id": "db81a98c-8508-4415-9ff6-e50b9991ab23",
   "metadata": {},
   "outputs": [],
   "source": [
    "import numpy\n",
    "\n",
    "land_cells = numpy.ma.getmaskarray(temperature_dataset.thetao.to_masked_array())\n",
    "land_cells"
   ]
  },
  {
   "cell_type": "markdown",
   "id": "6c1b530c-bd90-47c7-a7ca-0ede3dc450fc",
   "metadata": {},
   "source": [
    "`land_cells` is a 4-th dimensional array. On the other side, we don't need the first axis (the one related with the time) because the mask does not change during the timesteps. Therefore, we can remove the first axis and keep only the mask of the first time step. Here we use the attribute `.shape` to check the dimensions of the new array"
   ]
  },
  {
   "cell_type": "code",
   "execution_count": null,
   "id": "510a6e1c-8310-48b0-8a43-235f3f9c13dd",
   "metadata": {},
   "outputs": [],
   "source": [
    "cells_on_land = land_cells[0, :, :, :]\n",
    "cells_on_land.shape"
   ]
  },
  {
   "cell_type": "markdown",
   "id": "fd31a0cd-23f6-4119-ad02-a07a865fdeaf",
   "metadata": {},
   "source": [
    "# 4. Time averages"
   ]
  },
  {
   "cell_type": "markdown",
   "id": "c3c40160-ead6-4ce5-9f1d-405ce054e71c",
   "metadata": {},
   "source": [
    "In the previous cells, we drew a map for a single time step. Now, we want to produce a map of the average surface temperature for each year in our domain.\n",
    "\n",
    "We start by selecting the data, for example, for the year 2012. Since each year has 12 months and our dataset starts from 2010, the year 2012 will be represented by the slice 24:36. Here we get the slice"
   ]
  },
  {
   "cell_type": "code",
   "execution_count": null,
   "id": "0ae78e19-d05e-4258-a255-ad68daa28edc",
   "metadata": {},
   "outputs": [],
   "source": [
    "temperature_dataset.thetao[24:36]"
   ]
  },
  {
   "cell_type": "markdown",
   "id": "7577d8fd-4815-4d4d-bdff-a86c6885dc92",
   "metadata": {},
   "source": [
    "A much more convenient way to select the data we need is to use the method `loc`, that allows us to slice based on the values of the axis. Look how easily we can select the data related to the year 2012"
   ]
  },
  {
   "cell_type": "code",
   "execution_count": null,
   "id": "577dcbb1-eaa3-4649-b00a-ca2299991e92",
   "metadata": {},
   "outputs": [],
   "source": [
    "temperature_dataset.thetao.loc[\"2012-01-01\":\"2012-12-31\", :, :, :]"
   ]
  },
  {
   "cell_type": "markdown",
   "id": "879c0d3c-ee74-4084-b038-c258b251007d",
   "metadata": {},
   "source": [
    "You can also combine the `loc` method to get the data of a particular year within a specific range of longitude, such as between 12° and 14° degrees"
   ]
  },
  {
   "cell_type": "code",
   "execution_count": null,
   "id": "9c0049c9-434d-4f3b-83aa-18762f2f6460",
   "metadata": {},
   "outputs": [],
   "source": [
    "temperature_dataset.thetao.loc[\"2012-01-01\":\"2012-12-31\", :, :, 12:14]"
   ]
  },
  {
   "cell_type": "markdown",
   "id": "0b1f236a-fdbc-4354-8fc5-a60bc61fcc4d",
   "metadata": {},
   "source": [
    "Let's go back to our average. Now we know how to extract the data on the surface! For example"
   ]
  },
  {
   "cell_type": "code",
   "execution_count": null,
   "id": "87500c55-50c1-495f-8ee1-fcd4b8ad1f52",
   "metadata": {},
   "outputs": [],
   "source": [
    "temperature_dataset.thetao.loc[\"2012-01-01\":\"2012-12-31\"][:, 0, :, :]"
   ]
  },
  {
   "cell_type": "markdown",
   "id": "e2376868-9ba8-4348-8de8-99ca7274f63b",
   "metadata": {},
   "source": [
    "To compute the average, we use `numpy` which contains a function perfect for this task. In the function we specify the argument `axis = 0`,which means \"we want to compute the average with respect to the time\". If we had written \"axis = 2\", it would computed the average along the longitude."
   ]
  },
  {
   "cell_type": "code",
   "execution_count": null,
   "id": "a73c6d0c-2305-46a3-81fb-e4a959dbaaf3",
   "metadata": {},
   "outputs": [],
   "source": [
    "average_ssd_2012 = numpy.average(temperature_dataset.thetao.loc[\"2012-01-01\":\"2012-12-31\"][:, 0, :, :], axis=0)\n",
    "plt.imshow(average_ssd_2012, origin=\"lower\")"
   ]
  },
  {
   "cell_type": "markdown",
   "id": "86fcb74d-9c66-490a-969a-c42b4fbd6cc5",
   "metadata": {},
   "source": [
    "Let's have some fun! For example, we can produce maps showing the surface average temperature for each year of our model:"
   ]
  },
  {
   "cell_type": "code",
   "execution_count": null,
   "id": "0199a77f-bf5a-4bb3-9fae-2c348fdf5b8d",
   "metadata": {
    "scrolled": true
   },
   "outputs": [],
   "source": [
    "for i in range(2010, 2022):\n",
    "    data = numpy.average(temperature_dataset.thetao.loc[f\"{i}-01-01\":f\"{i}-12-31\"][:, 0, :, :], axis=0)\n",
    "    plt.imshow(data, origin=\"lower\")\n",
    "    plt.title(f'Year {i}')\n",
    "    plt.colorbar(label='Potential temperature [-]')\n",
    "    plt.show()"
   ]
  },
  {
   "cell_type": "markdown",
   "id": "275dd251-fab1-46c3-9feb-0d3eee70afb7",
   "metadata": {},
   "source": [
    "Another example: can you guess what the purpouse of the following code is?"
   ]
  },
  {
   "cell_type": "code",
   "execution_count": null,
   "id": "0a64a2d1-db9b-4ba3-832e-a9d66535b888",
   "metadata": {},
   "outputs": [],
   "source": [
    "for d in [1, 10, 50, 100, 500]:\n",
    "    data = numpy.average(temperature_dataset.thetao.sel(depth=d, method='nearest'), axis=0)\n",
    "    plt.imshow(data, origin=\"lower\")\n",
    "    plt.colorbar(label='Potential temperature [-]')\n",
    "    plt.show()"
   ]
  },
  {
   "cell_type": "markdown",
   "id": "0bda6f01-89ca-46fe-b888-bfdb11dc7f5a",
   "metadata": {},
   "source": [
    "# 5. Spatial averages"
   ]
  },
  {
   "cell_type": "markdown",
   "id": "671a0ee4-6622-4787-bd0c-3f9408fe9fb6",
   "metadata": {},
   "source": [
    "In this section, we focus on computing spatial averages. For example, we want to compute the average temperature for all the cells of the first time step of the model. If you have followed the previous parts of this tutorial, you might be thinking about doing something like this"
   ]
  },
  {
   "cell_type": "code",
   "execution_count": null,
   "id": "c8aff6fb-b69b-4d4d-8b54-c69e41d73eec",
   "metadata": {},
   "outputs": [],
   "source": [
    "numpy.average(temperature_dataset.thetao.values[0, :, :, :])"
   ]
  },
  {
   "cell_type": "markdown",
   "id": "d279a737-3206-41c7-aa97-70603e733f56",
   "metadata": {},
   "source": [
    "We need to remove the cells for which we do not have data. For this task, we can use our vector `cells_on_land`. We can generate a vector that is `True` when a cell contains water (the opposite of `cells_on_land`) and then use it like a \"mask\" to retrieve only the values that we need."
   ]
  },
  {
   "cell_type": "code",
   "execution_count": null,
   "id": "eda526eb-bd4d-4e27-909e-7a74ef180ac7",
   "metadata": {},
   "outputs": [],
   "source": [
    "cells_on_water = numpy.logical_not(cells_on_land)\n",
    "only_water_values = temperature_dataset.thetao.values[:, cells_on_water]\n",
    "only_water_values.shape"
   ]
  },
  {
   "cell_type": "markdown",
   "id": "13bf6377-65eb-417b-8807-59dd3e27bd7d",
   "metadata": {},
   "source": [
    "It's worth noting that this new vector is a 2D array. The first index represents time, while the second represents the cell number. However, by doing this, we've lost information about the geometry, making it impossible to retrieve. Nevertheless, we can now compute the average of the values across the entire basin"
   ]
  },
  {
   "cell_type": "code",
   "execution_count": null,
   "id": "a2c3b158-1135-4e59-99c5-e4819be68c01",
   "metadata": {},
   "outputs": [],
   "source": [
    "numpy.average(only_water_values, axis=1)"
   ]
  },
  {
   "cell_type": "markdown",
   "id": "fef80602-5779-478d-b4d7-d2a8e21dc4ea",
   "metadata": {},
   "source": [
    "Unfortunately, the previous result is WRONG! It fails to consider the size of the cells. Although the model's grid is regular, meaning the coordinates of each cell's center are evenly spaced in terms of latitude and longitude, this does not ensure equal distances between them due to the Earth's shape. Consequently, the size of the cells varies, necessitating consideration when computing averages.\n",
    "\n",
    "To address this, we'll approximate the area of a cell by multiplying the distance between its two sides, using the line passing through the center of the cell (refer to the following image, where each center is marked with a blue dot).\n",
    "\n",
    "![header](images/grid.png)"
   ]
  },
  {
   "cell_type": "markdown",
   "id": "846d137e-f5f9-4244-a4ae-d9a04d651522",
   "metadata": {},
   "source": [
    "Firstly, we need to compute the coordinates of the points that lie between the two centers, on the boundary of the cells. These points are the midpoints of the two centers."
   ]
  },
  {
   "cell_type": "code",
   "execution_count": null,
   "id": "9035fe49-72a9-4db4-839d-5831c43aff73",
   "metadata": {},
   "outputs": [],
   "source": [
    "def midpoints(points):\n",
    "    \"\"\"\n",
    "    Given a 1D array of points, compute the coordinates of\n",
    "    the midpoint between each pair of adjacent points.\n",
    "    In other words, `output[i]` represents the midpoint\n",
    "    between `points[i]` and `points[i - 1]`.\n",
    "\n",
    "    `output[0]` is chosen such that `points[0]` is the\n",
    "    midpoint between `output[0]` and `output[1]`. The\n",
    "    last midpoint is also computed following the same\n",
    "    criteria.\n",
    "    \"\"\"\n",
    "    n_points = points.shape[0]\n",
    "    output = numpy.zeros(n_points + 1, dtype=points.dtype)\n",
    "    for i in range(1, n_points):\n",
    "        output[i] = (points[i] + points[i - 1]) / 2\n",
    "    output[0] = 2 * points[0] - output[1]\n",
    "    output[n_points] = 2 * points[n_points - 1] - output[n_points - 1]\n",
    "    return output"
   ]
  },
  {
   "cell_type": "code",
   "execution_count": null,
   "id": "3b10bb7c-5d3a-4b25-8749-474b9e63c251",
   "metadata": {},
   "outputs": [],
   "source": [
    "grid_latitude = midpoints(temperature_dataset.latitude)\n",
    "grid_longitude = midpoints(temperature_dataset.longitude)"
   ]
  },
  {
   "cell_type": "markdown",
   "id": "12ed1b4e-da41-4b5c-8060-691430a17f4e",
   "metadata": {},
   "source": [
    "We now need to address the problem of computing the distance between two points described by their coordinates. While this problem can be solved manually, the result is often not accurate from a numerical standpoint. Instead, we will use a dedicated library (if you don't have it, you can install it with conda)."
   ]
  },
  {
   "cell_type": "code",
   "execution_count": null,
   "id": "a305f8f8-0249-430f-9be9-bb8e4db4e779",
   "metadata": {},
   "outputs": [],
   "source": [
    "from geopy.distance import geodesic\n",
    "\n",
    "ostend = (51.225833, 2.919444)\n",
    "brussels = (50.846667, 4.3525)\n",
    "\n",
    "distance = geodesic(ostend, brussels)\n",
    "print(f'The distance between Ostend and Brussels is {distance.km} km')"
   ]
  },
  {
   "cell_type": "markdown",
   "id": "85582dc6-07cd-4e6d-a069-e6396025fc16",
   "metadata": {},
   "source": [
    "Now we have all the necessary components to compute the size of each cell. The result will be a 2D array containing the area in square kilometers. Please note that the algorithm is a bit complicated, so proceed with caution!"
   ]
  },
  {
   "cell_type": "code",
   "execution_count": null,
   "id": "5f6d34a9-f0fc-4a0f-8ca7-312454fbcb57",
   "metadata": {},
   "outputs": [],
   "source": [
    "def compute_cell_areas(center_latitude, center_longitude):\n",
    "    grid_latitude = midpoints(center_latitude)\n",
    "    grid_longitude = midpoints(center_longitude)\n",
    "\n",
    "    cells_y = center_latitude.shape[0]\n",
    "    cells_x = center_longitude.shape[0]\n",
    "\n",
    "    cell_widths = numpy.zeros((cells_y, cells_x), dtype=numpy.float32)\n",
    "    cell_heights = numpy.zeros((cells_y, cells_x), dtype=numpy.float32)\n",
    "\n",
    "    # Now we compute the size of the horizontal lines that cross\n",
    "    # every cell\n",
    "    for x in range(cells_x):\n",
    "        for y in range(cells_y):\n",
    "            line_start = (center_latitude[y], grid_longitude[x])\n",
    "            line_end = (center_latitude[y], grid_longitude[x + 1])\n",
    "            line_length = geodesic(line_start, line_end).km\n",
    "            cell_widths[y, x] = line_length\n",
    "\n",
    "    # Now the same for the vertical ones\n",
    "    for x in range(cells_x):\n",
    "        for y in range(cells_y):\n",
    "            line_start = (grid_latitude[y], center_longitude[x])\n",
    "            line_end = (grid_latitude[y + 1], center_longitude[x])\n",
    "            line_length = geodesic(line_start, line_end).km\n",
    "            cell_heights[y, x] = line_length\n",
    "\n",
    "    # Because cell_widths and cell_heights have the same shape, numpy\n",
    "    # \"broadcasts\" the operation on each element of the two arrays\n",
    "    cell_areas = cell_widths * cell_heights\n",
    "    return cell_areas"
   ]
  },
  {
   "cell_type": "code",
   "execution_count": null,
   "id": "3835d84b-2f0f-4dcd-892d-8a33d685bbb4",
   "metadata": {},
   "outputs": [],
   "source": [
    "# Here we call the function to compute the cell_areas\n",
    "cell_areas = compute_cell_areas(\n",
    "    temperature_dataset.latitude,\n",
    "    temperature_dataset.longitude\n",
    ")\n",
    "\n",
    "cell_areas"
   ]
  },
  {
   "cell_type": "markdown",
   "id": "5ff5f22a-9ece-44d8-8b10-5218a7840798",
   "metadata": {},
   "source": [
    "Now that we have the area of each cell, computing the volume only requires multiplying by the height of each level. Unfortunately, we do not have this information readily available. We need to compute it starting from the depth of the centers of the cells. Luckily, our `midpoints` function can provide us with the boundary of the levels, and then computing the height only requires subtracting the depth of two boundaries\n"
   ]
  },
  {
   "cell_type": "code",
   "execution_count": null,
   "id": "2fcd960f-532a-465f-8b61-be1400de4ff8",
   "metadata": {},
   "outputs": [],
   "source": [
    "n_levels = temperature_dataset.depth.shape[0]\n",
    "level_boundaries = middle_points(temperature_dataset.depth)\n",
    "\n",
    "level_heights = numpy.zeros(n_levels, dtype=temperature_dataset.depth.dtype)\n",
    "\n",
    "for i in range(n_levels):\n",
    "    level_heights[i] = level_boundaries[i + 1] - level_boundaries[i]\n",
    "\n",
    "level_heights"
   ]
  },
  {
   "cell_type": "markdown",
   "id": "fa4e4a18-2166-4b61-a1d9-b0664f2d57b5",
   "metadata": {},
   "source": [
    "With `cell_areas` and `level_heights`, computing the volume of each cell is straightforward"
   ]
  },
  {
   "cell_type": "code",
   "execution_count": null,
   "id": "ccbdcaf4-799f-438b-92d9-25b644aa393f",
   "metadata": {},
   "outputs": [],
   "source": [
    "n_levels = temperature_dataset.depth.shape[0]\n",
    "y_points = temperature_dataset.latitude.shape[0]\n",
    "x_points = temperature_dataset.longitude.shape[0]\n",
    "\n",
    "cell_volumes = numpy.zeros((n_levels, y_points, x_points), dtype=numpy.float32)\n",
    "for i in range(n_levels):\n",
    "    for j in range(y_points):\n",
    "        for k in range(x_points):\n",
    "            # we divide by 1000 so that the unit is km^3 (level_heights unit is meters)\n",
    "            cell_volumes[i, j, k] = level_heights[i] / 1000 * cell_areas[j, k]"
   ]
  },
  {
   "cell_type": "markdown",
   "id": "f7620ca8-df05-4f2e-898f-d8db0ddb7f58",
   "metadata": {},
   "source": [
    "Finally, we can compute our average! We just need to remember to use our array `cells_on_water` to filter out the values outside the sea."
   ]
  },
  {
   "cell_type": "code",
   "execution_count": null,
   "id": "d149633d-be21-4b89-ae41-0e277b806f62",
   "metadata": {},
   "outputs": [],
   "source": [
    "# water_cell_volumes is a 1D array: we loose the information about the geometry\n",
    "water_cell_volumes = cell_volumes[cells_on_water]\n",
    "\n",
    "# This is the total volume of the basin (km^3)\n",
    "total_volume = numpy.sum(water_cell_volumes)\n",
    "\n",
    "# only_water_values is a 2D array: [time, cell_index]\n",
    "only_water_values = temperature_dataset.thetao.values[:, cells_on_water]\n",
    "\n",
    "average_values = numpy.zeros(temperature_dataset.time.shape[0])\n",
    "\n",
    "for t in range(temperature_dataset.time.shape[0]):\n",
    "    # The product inside the sum is a product of two 1D arrays (because we fix\n",
    "    # the time index for only_water_values). numpy returns a 1D array whose\n",
    "    # elements are the product of the elements of the input arrays\n",
    "    average_values[t] = numpy.sum(only_water_values[t, :] * water_cell_volumes) / total_volume\n",
    "\n",
    "plt.plot(temperature_dataset.time.values, average_values)"
   ]
  },
  {
   "cell_type": "markdown",
   "id": "555dd4b0-b133-4455-837a-a4070ada14af",
   "metadata": {},
   "source": [
    "# 6. Spatial averages (exercise)\n",
    "\n",
    "Now it's your turn! Utilize what you've learned to compute the average chlorophyll concentration ON THE SURFACE of the domain over time. Best of luck!"
   ]
  },
  {
   "cell_type": "code",
   "execution_count": null,
   "id": "5d198e34-8d78-406c-904c-f31aee0c9feb",
   "metadata": {},
   "outputs": [],
   "source": []
  },
  {
   "cell_type": "markdown",
   "id": "7b3d2cec-62e1-48c0-9353-729893c37fb0",
   "metadata": {},
   "source": [
    "# 7. Extract values on the bottom layer (optional)"
   ]
  },
  {
   "cell_type": "markdown",
   "id": "8dedd7c7-8532-4465-988f-6d6ca34006ac",
   "metadata": {},
   "source": [
    "A common task you may be interested in is extracting the values at the bottom layer, or in other words, extracting the values that, when examining the data column by column, are in the last water cell before encountering a cell outside our domain.\n",
    "\n",
    "A good approach to deal with this problem is to construct a 2D map that, for every column, gives us the index of the last water cell. We must decide what to do when we encounter a column that does not have any water cells. In this case, I propose saving \"-1\" (please remember that 0 would be the index of the first cell in Python).\n",
    "\n",
    "The algorithm we use is as follows: for each column, we start by setting the index of the bottom cell to -1. As we scroll through the column, every time we encounter a water cell, we update the bottom cell index to the current cell's position. As soon as we find a cell outside the domain, we stop our search and set the bottom cell index for that column in our table."
   ]
  },
  {
   "cell_type": "code",
   "execution_count": null,
   "id": "386e42e9-13d3-4536-a915-f5d303f63674",
   "metadata": {},
   "outputs": [],
   "source": [
    "def build_bottom_map(cells_on_water):\n",
    "    n_levels = cells_on_water.shape[0]\n",
    "    y_points = cells_on_water.shape[1]\n",
    "    x_points = cells_on_water.shape[2]\n",
    "\n",
    "    bottom_map = numpy.zeros((y_points, x_points), dtype=numpy.int32)\n",
    "    \n",
    "    for i in range(y_points):\n",
    "        for j in range(x_points):\n",
    "            current_column = cells_on_water[:, i, j]\n",
    "            bottom_map[i, j] = -1\n",
    "            for l in range(n_levels):\n",
    "                if current_column[l] == True:\n",
    "                    bottom_map[i, j] = l\n",
    "                else:\n",
    "                    break\n",
    "    return bottom_map\n",
    "\n",
    "build_bottom_map(cells_on_water)"
   ]
  },
  {
   "cell_type": "markdown",
   "id": "2e3a1b57-78f8-4a5f-a84d-d99d267fc9ce",
   "metadata": {},
   "source": [
    "There is also a \"trick\" that can be used to produce our map of the bottom cells. We can simply \"count\" the number of water cells in each column. Internally, Python represents True as 1 and False as 0. Therefore, by summing along the depth axis, we get the number of water cells. The index of the last water cell is this number minus 1"
   ]
  },
  {
   "cell_type": "code",
   "execution_count": null,
   "id": "e31f5366-d840-48e6-9cac-2cd74a285866",
   "metadata": {},
   "outputs": [],
   "source": [
    "def build_bottom_map_tricky(cells_on_water):\n",
    "    bottom_map = numpy.sum(cells_on_water, axis=0) - 1\n",
    "    return bottom_map"
   ]
  },
  {
   "cell_type": "markdown",
   "id": "cdb7486e-1a04-4a3b-adc9-dd38f21bac42",
   "metadata": {},
   "source": [
    "We can verify that the two functions yield the same results by using NumPy to check if all the elements of their output arrays are equal"
   ]
  },
  {
   "cell_type": "code",
   "execution_count": null,
   "id": "83afc9a0-d307-4530-aa3c-fb9ebf7bd5d3",
   "metadata": {},
   "outputs": [],
   "source": [
    "numpy.all(build_bottom_map(cells_on_water) == build_bottom_map_tricky(cells_on_water))"
   ]
  },
  {
   "cell_type": "markdown",
   "id": "632229af-3a0f-478b-b59c-d7b22e2e3600",
   "metadata": {},
   "source": [
    "We can use our map to extract the values of the temperature (for example) on the bottom layer. The idea is to prepare a 2D map and then to copy the values that we need with two nested for loops"
   ]
  },
  {
   "cell_type": "code",
   "execution_count": null,
   "id": "b91a2843-3e27-4182-8c2a-e3ba321578cc",
   "metadata": {},
   "outputs": [],
   "source": [
    "def extract_bottom(variable_data, bottom_map):\n",
    "    n_levels = variable_data.shape[0]\n",
    "    y_points = variable_data.shape[1]\n",
    "    x_points = variable_data.shape[2]\n",
    "\n",
    "    bottom_var = numpy.zeros((y_points, x_points), dtype=variable_data.dtype)\n",
    "    \n",
    "    for i in range(y_points):\n",
    "        for j in range(x_points):\n",
    "            if bottom_map[i, j] == -1:\n",
    "                bottom_var[i, j] = numpy.nan\n",
    "            else:\n",
    "                bottom_layer_index = int(bottom_map[i, j])\n",
    "                bottom_var[i, j] = variable_data[bottom_layer_index, i, j]\n",
    "\n",
    "    return bottom_var\n",
    "\n",
    "bottom_map = build_bottom_map_tricky(cells_on_water)\n",
    "bottom_temp = extract_bottom(temperature_dataset.thetao[0, : ,: ,:], bottom_map)\n",
    "\n",
    "bottom_temp"
   ]
  },
  {
   "cell_type": "markdown",
   "id": "76578153-7de0-4f1f-a89d-d4d950d7057b",
   "metadata": {},
   "source": [
    "Here, we can visualize the map we have produced. However, it is challenging to have a good physical intuition of the values displayed because this map is heavily influenced by the bathymetry"
   ]
  },
  {
   "cell_type": "code",
   "execution_count": null,
   "id": "6b578eca-134c-4544-b45a-b3d098af2e48",
   "metadata": {},
   "outputs": [],
   "source": [
    "plt.imshow(bottom_temp, origin=\"lower\")\n",
    "plt.colorbar()"
   ]
  },
  {
   "cell_type": "markdown",
   "id": "cdc54866-1004-4a29-aca9-36c697fd65a5",
   "metadata": {},
   "source": [
    "It would be interesting to compare the previous plot with the bathymetry of the domain.\n",
    "\n",
    "As an exercise, draw the plot of the bathymetry using what you have learned in the previous examples. The bathymetry can be well approximated by the values of the depth axis, but you need to extract the values from the bottom layer. Good luck!"
   ]
  },
  {
   "cell_type": "code",
   "execution_count": null,
   "id": "05a07d2a-7264-4143-a37c-5dbadab7db2a",
   "metadata": {},
   "outputs": [],
   "source": []
  },
  {
   "cell_type": "code",
   "execution_count": null,
   "id": "75f1523e-7a7c-425b-b2c6-01b560ca8957",
   "metadata": {},
   "outputs": [],
   "source": []
  },
  {
   "cell_type": "code",
   "execution_count": null,
   "id": "cbd0a8d3-17e2-4e21-ba16-8ce48b01c7ad",
   "metadata": {},
   "outputs": [],
   "source": []
  }
 ],
 "metadata": {
  "kernelspec": {
   "display_name": "Python 3 (ipykernel)",
   "language": "python",
   "name": "python3"
  },
  "language_info": {
   "codemirror_mode": {
    "name": "ipython",
    "version": 3
   },
   "file_extension": ".py",
   "mimetype": "text/x-python",
   "name": "python",
   "nbconvert_exporter": "python",
   "pygments_lexer": "ipython3",
   "version": "3.12.2"
  }
 },
 "nbformat": 4,
 "nbformat_minor": 5
}
