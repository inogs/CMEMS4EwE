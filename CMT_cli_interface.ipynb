{
 "cells": [
  {
   "cell_type": "markdown",
   "id": "152d3245-6275-4387-a14e-8a16a7fa1b89",
   "metadata": {},
   "source": [
    "![header](logos/logo.png)"
   ]
  },
  {
   "cell_type": "markdown",
   "id": "20691d7c-1142-4050-ab4e-960aedd20292",
   "metadata": {},
   "source": [
    "<center><h2> Ecopath 40 Years - Ostend, 7 June 2024 </h2></center>\n",
    "\n",
    "<center><h4> Downloading Copernicus Marine Service products using the command line interface </h4></center>"
   ]
  },
  {
   "cell_type": "markdown",
   "id": "3e44b223-64ee-437d-a000-46c341b83e0a",
   "metadata": {},
   "source": [
    "# 1. Introduction\n",
    "\n",
    "This is a modify version of a Jupyter notebook developed by Ergane Fouchet and proposed during the 2022 Copernicus Marine Service\n",
    "Mediterranean Sea Training Workshop. The original version can be downloaded\n",
    "[here](https://marine.copernicus.eu/services/user-learning-services/mediterranean-sea-training-2022-discover-copernicus-marine-service)\n",
    "\n",
    "Welcome to this Copernicus Marine Service training over the Mediterranean Sea ! \n",
    "\n",
    "In this Jupyter Notebook, you will learn everything you need to access and download the Copernicus Marine Service products with the **Copernicus Marine Toolbox**. To do so, we are going to follow a basic exercise whose objective will be to download the Mediterranean Sea temperature and chlorophyll concentration in several different ways.\n",
    "\n",
    "In this notebook, we will use the **Copernicus Marine Toolbox CLI**. All the commands shown here can be typed directly into the Conda PowerShell prompt (for Windows users) or a shell (for Mac and Linux users); you just need to remove the \"!\" in front."
   ]
  },
  {
   "cell_type": "markdown",
   "id": "7c579096-69ce-4963-9282-d473e435674d",
   "metadata": {},
   "source": [
    "# 2. Presentation and access to the data\n",
    "\n",
    "We are going to work with 2 Copernicus Marine Service datasets. In the following sections, you will learn how to find information on these products and how to access them.\n",
    "\n",
    "## 2.1. Presentation of the products used\n",
    "\n",
    "From the Copernicus Marine Service [catalogue](https://resources.marine.copernicus.eu/products), you can explore all the products available with many filters to select the region you are interested in, the parameters you want to study, etc. \n",
    "\n",
    "In this exercise, we are interested in the sea temperature and in the chlorophyll concentration; we will get the data from the following two products: \n",
    "- The [*Mediterranean Sea Physics Reanalysis*](https://data.marine.copernicus.eu/product/MEDSEA_MULTIYEAR_PHY_006_004/description) model for the temperature;\n",
    "- The [*Mediterranean Sea Biogechemistry Reanalysis*](https://data.marine.copernicus.eu/product/MEDSEA_MULTIYEAR_BGC_006_008/description) model;\n",
    "\n",
    "The links associated to the products will direct you to the catalogue information page, where you can find the description of the product, its temporal and spatial resolution, processing level, temporal coverage and more. \n",
    "\n",
    "<div class=\"alert alert-block alert-warning\">\n",
    "    <b>Get Copernicus Marine Service User credentials</b>\n",
    "<hr>\n",
    "    Whatever way you choose to download the products, you will need to have by your Copernicus Marine Service User credentials. If you are not registered yet, you can get them from <a href=\"http://marine.copernicus.eu/services-portfolio/register-now/\" target=\"_blank\">Copernicus Marine Service registration page</a>.\n",
    "\n"
   ]
  },
  {
   "cell_type": "markdown",
   "id": "df146354-ad9d-451b-ac48-9f226bdd6f72",
   "metadata": {},
   "source": [
    "## 2.2. The Copernicus Marine Toolbox\n",
    "\n",
    "The Copernicus Marine Toolbox is a software that offers capabilities through both Command Line Interface (CLI) and Python API:\n",
    "\n",
    "- Metadata Information: List and retrieve metadata information on all variables, datasets, products, and their associated documentation.\n",
    "- Subset Datasets: Subset datasets to extract only the parts of interest, in preferred format, such as Analysis-Ready Cloud-Optimized (ARCO) Zarr or NetCDF file format.\n",
    "- Advanced Filters: Apply simple or advanced filters to get multiple files, in original formats like NetCDF/GeoTIFF, via direct Marine Data Store connections.\n",
    "- No Quotas: Enjoy no quotas, neither on volume size nor bandwidth.\n",
    "\n",
    "In this notebook we will focus on its Command Line Interface (CLI).\n",
    "\n",
    "The interface of the Copernicus Marine Toolbox has the following syntax:\n",
    "`copernicusmarine ACTION [OPTIONS]`\n",
    "\n",
    "where `ACTION` is one between `login`, `describe`, `get`, and `subset`."
   ]
  },
  {
   "cell_type": "code",
   "execution_count": 2,
   "id": "e28161eb-8039-47d4-a439-f24db33f99d9",
   "metadata": {},
   "outputs": [
    {
     "name": "stdout",
     "output_type": "stream",
     "text": [
      "Usage: copernicusmarine [OPTIONS] COMMAND [ARGS]...\n",
      "\n",
      "Options:\n",
      "  -V, --version  Show the version and exit.\n",
      "  -h, --help     Show this message and exit.\n",
      "\n",
      "Commands:\n",
      "  describe  Print Copernicus Marine catalog as JSON.\n",
      "  get       Download originally produced data files.\n",
      "  login     Create a configuration file with your Copernicus Marine\n",
      "            credentials.\n",
      "  subset    Download subsets of datasets as NetCDF files or Zarr stores.\n"
     ]
    }
   ],
   "source": [
    "!copernicusmarine --help"
   ]
  },
  {
   "cell_type": "markdown",
   "id": "4749c619-dd22-4517-867b-e8e7ad7d0300",
   "metadata": {},
   "source": [
    "Before starting, register your credentials in the Copernicus Marine Toolbox, to use it freely from now on"
   ]
  },
  {
   "cell_type": "code",
   "execution_count": null,
   "id": "2d2aa953-2d6b-45ef-bf5a-d0b960a40978",
   "metadata": {},
   "outputs": [],
   "source": [
    "!copernicusmarine login --username YOUR_USERNAME --password YOUR_PASSWORD --skip-if-user-logged-in"
   ]
  },
  {
   "cell_type": "markdown",
   "id": "c0658525-825d-4b24-9da6-0a879bd8cb6f",
   "metadata": {},
   "source": [
    "## 2.3. Exploring the product with *copernicusmarine.describe*\n",
    "\n"
   ]
  },
  {
   "cell_type": "markdown",
   "id": "ccda4cc4-b41b-4072-9d41-79cc5c0087f2",
   "metadata": {},
   "source": [
    "In the previous lecture, you should have learn how to obtain information about the Copernicus products you want to use.\n",
    "\n",
    "You can also obtain some information about a product using the CLI of the Copernicus Marine Toolbox; in this case we examinate the dataset `med-cmcc-tem-rean-d` that contains the temperature:"
   ]
  },
  {
   "cell_type": "code",
   "execution_count": 1,
   "id": "037d3035-43c9-4104-a0ac-7c2dcce0ca21",
   "metadata": {},
   "outputs": [
    {
     "name": "stdout",
     "output_type": "stream",
     "text": [
      "ERROR - 2024-06-05T13:35:55Z - Client version 1.2.1 is not compatible with current backend service. Please update to the latest client version.\n",
      "ERROR - 2024-06-05T13:35:55Z - Client version 1.2.1 is not compatible with current backend service. Please update to the latest client version.\n",
      "{\n",
      "  \"products\": [\n",
      "    {\n",
      "      \"title\": \"Mediterranean Sea Physics Reanalysis\",\n",
      "      \"product_id\": \"MEDSEA_MULTIYEAR_PHY_006_004\",\n",
      "      \"thumbnail_url\": \"https://mdl-metadata.s3.waw3-1.cloudferro.com/metadata/thumbnails/MEDSEA_MULTIYEAR_PHY_006_004.jpg\",\n",
      "      \"description\": \"The Med MFC physical multiyear product is generated by a numerical system composed of an hydrodynamic model, supplied by the Nucleous for European Modelling of the Ocean (NEMO) and a variational data assimilation scheme (OceanVAR) for temperature and salinity vertical profiles and satellite Sea Level Anomaly along track data. It contains a reanalysis dataset and an interim dataset which covers the period after the reanalysis until 1 month before present. The model horizontal grid resolution is 1/24\\u02da (ca. 4-5 km) and the unevenly spaced vertical levels are 141. \\n\\n**Product Citation**: \\nPlease refer to our Technical FAQ for citing products\\n\\n**DOI (Product)**: \\nhttps://doi.org/10.25423/CMCC/MEDSEA_MULTIYEAR_PHY_006_004_E3R1\\n\\n**DOI (Interim dataset)**:\\nhttps://doi.org/10.25423/CMCC/MEDSEA_MULTIYEAR_PHY_006_004_E3R1I\\n\\n**References:**\\n\\n* Escudier, R., Clementi, E., Omar, M., Cipollone, A., Pistoia, J., Aydogdu, A., Drudi, M., Grandi, A., Lyubartsev, V., Lecci, R., Cret\\u00ed, S., Masina, S., Coppini, G., & Pinardi, N. (2020). Mediterranean Sea Physical Reanalysis (CMEMS MED-Currents) (Version 1) [Data set]. Copernicus Monitoring Environment Marine Service (CMEMS). https://doi.org/10.25423/CMCC/MEDSEA_MULTIYEAR_PHY_006_004_E3R1\\n* Escudier, R., Clementi, E., Cipollone, A., Pistoia, J., Drudi, M., Grandi, A., Lyubartsev, V., Lecci, R., Aydogdu, A., Delrosso, D., Omar, M., Masina, S., Coppini G., Pinardi, N. (2021). A High Resolution Reanalysis for the Mediterranean Sea. Frontiers in Earth Science, 9, 1060, https://www.frontiersin.org/article/10.3389/feart.2021.702285, DOI=10.3389/feart.2021.702285\\n* Nigam, T., Escudier, R., Pistoia, J., Aydogdu, A., Omar, M., Clementi, E., Cipollone, A., Drudi, M., Grandi, A., Mariani, A., Lyubartsev, V., Lecci, R., Cret\\u00ed, S., Masina, S., Coppini, G., & Pinardi, N. (2021). Mediterranean Sea Physical Reanalysis INTERIM (CMEMS MED-Currents, E3R1i system) (Version 1) [Data set]. Copernicus Monitoring Environment Marine Service (CMEMS). https://doi.org/10.25423/CMCC/MEDSEA_MULTIYEAR_PHY_006_004_E3R1I\\n\",\n",
      "      \"digital_object_identifier\": \"10.25423/CMCC/MEDSEA_MULTIYEAR_PHY_006_004_E3R1\",\n",
      "      \"sources\": [\n",
      "        \"Numerical models\"\n",
      "      ],\n",
      "      \"processing_level\": \"Level 4\",\n",
      "      \"production_center\": \"CMCC (Italy)\"\n",
      "    }\n",
      "  ]\n",
      "}\n"
     ]
    }
   ],
   "source": [
    "!copernicusmarine describe --include-description -c med-cmcc-tem-rean-d"
   ]
  },
  {
   "cell_type": "markdown",
   "id": "a37f540a-a6ff-4827-8f77-cd6635876d04",
   "metadata": {},
   "source": [
    "You can check which options the `describe` command can handle bu using the `--help` parameter"
   ]
  },
  {
   "cell_type": "code",
   "execution_count": null,
   "id": "b01e3573-f660-4e4c-9785-5456acedd3a8",
   "metadata": {},
   "outputs": [],
   "source": [
    "!copernicusmarine describe --help"
   ]
  },
  {
   "cell_type": "markdown",
   "id": "bc3c83d4-f555-4fef-9640-31eb214477d9",
   "metadata": {},
   "source": [
    "## 2.4. Download with *copernicusmarine.get*\n",
    "\n",
    "The **get** command of the **Copernicus Marine Toolbox CLI** is the most basic way to download files from the Copernicus Data Store. It retrieves the files in the exact format produced by the production center. This means that filtering is not applicable; you cannot apply any criteria to select data, only download an entire file of the product. You can see the structure of the directories of the product in the `DATA ACCESS` section of the product web page in the catalogue (click on `Browse`).\n",
    "\n",
    "For most products, the NetCDF files contain one day of data and are grouped by months in the directories of the **Copernicus Marine Toolbox** option."
   ]
  },
  {
   "cell_type": "markdown",
   "id": "c14d1bea-b192-4b89-abad-9b9e17002c33",
   "metadata": {},
   "source": [
    "In the following cell, we will download the temperature data for the first nine months of 2019 for the entire Mediterranean Sea"
   ]
  },
  {
   "cell_type": "code",
   "execution_count": 1,
   "id": "4e8d2436-46a7-4040-b299-f19adc434cf1",
   "metadata": {},
   "outputs": [
    {
     "name": "stdout",
     "output_type": "stream",
     "text": [
      "ERROR - 2024-06-04T13:12:57Z - Client version 1.2.1 is not compatible with current backend service. Please update to the latest client version.\n",
      "ERROR - 2024-06-04T13:12:57Z - Client version 1.2.1 is not compatible with current backend service. Please update to the latest client version.\n",
      "ERROR - 2024-06-04T13:12:57Z - Client version 1.2.1 is not compatible with current backend service. Please update to the latest client version.\n",
      "Fetching catalog: 100%|███████████████████████████| 3/3 [00:13<00:00,  4.40s/it]\n",
      "INFO - 2024-06-04T13:13:14Z - Dataset version was not specified, the latest one was selected: \"202012\"\n",
      "INFO - 2024-06-04T13:13:14Z - Dataset part was not specified, the first one was selected: \"default\"\n",
      "INFO - 2024-06-04T13:13:14Z - Service was not specified, the default one was selected: \"original-files\"\n",
      "INFO - 2024-06-04T13:13:14Z - Downloading using service original-files...\n",
      "100%|█████████████████████████████████████████████| 9/9 [00:10<00:00,  1.19s/it]\n"
     ]
    }
   ],
   "source": [
    "!copernicusmarine get --dataset-id med-cmcc-tem-rean-m --filter *20190* --output-directory data --force-download"
   ]
  },
  {
   "cell_type": "markdown",
   "id": "cdf95ced-6818-48b0-a8f5-8768cb15ab08",
   "metadata": {},
   "source": [
    "You can see all the options of the command `get` by using the flag `--help`"
   ]
  },
  {
   "cell_type": "code",
   "execution_count": 16,
   "id": "c9588daa-4118-4343-902d-14e6bab4be76",
   "metadata": {},
   "outputs": [
    {
     "name": "stdout",
     "output_type": "stream",
     "text": [
      "Usage: copernicusmarine get [OPTIONS]\n",
      "\n",
      "  Download originally produced data files.\n",
      "\n",
      "  Either one of --dataset-id or --dataset-url is required (can be found via\n",
      "  the \"describe\" command). The function fetches the files recursively if a\n",
      "  folder path is passed as URL. When provided a datasetID, all the files in\n",
      "  the corresponding folder will be downloaded if none of the --filter or\n",
      "  --regex options is specified.\n",
      "\n",
      "Options:\n",
      "  -u, --dataset-url TEXT          URL to the data files.\n",
      "  -i, --dataset-id TEXT           The datasetID.\n",
      "  --dataset-version, --force-dataset-version TEXT\n",
      "                                  Force the selection of a specific dataset\n",
      "                                  version.\n",
      "  --dataset-part, --force-dataset-part TEXT\n",
      "                                  Force the selection of a specific dataset\n",
      "                                  part.\n",
      "  --username TEXT                 If not set, search for environment variable\n",
      "                                  COPERNICUSMARINE_SERVICE_USERNAME, or else\n",
      "                                  look for configuration files, or else ask\n",
      "                                  for user input.\n",
      "  --password TEXT                 If not set, search for environment variable\n",
      "                                  COPERNICUSMARINE_SERVICE_PASSWORD, or else\n",
      "                                  look for configuration files, or else ask\n",
      "                                  for user input.\n",
      "  -nd, --no-directories           Option to not recreate folder hierarchy in\n",
      "                                  ouput directory.                 NOTE:\n",
      "                                  This argument is mutually exclusive with\n",
      "                                  arguments: [sync].\n",
      "  --show-outputnames              Option to display the names of the output\n",
      "                                  files before download.\n",
      "  -o, --output-directory PATH     The destination directory for the downloaded\n",
      "                                  files. Default is the current directory.\n",
      "  --credentials-file PATH         Path to a credentials file if not in its\n",
      "                                  default directory. Accepts\n",
      "                                  .copernicusmarine-credentials / .netrc or\n",
      "                                  _netrc / motuclient-python.ini files.\n",
      "  --force-download                Flag to skip confirmation before download.\n",
      "  --overwrite-output-data, --overwrite\n",
      "                                  If specified and if the file already exists\n",
      "                                  on destination, then it will be overwritten\n",
      "                                  instead of creating new one with unique\n",
      "                                  index.\n",
      "  -s, --service, --force-service TEXT\n",
      "                                  Force download through one of the available\n",
      "                                  services using the service name among\n",
      "                                  ['original-files'] or its short name among\n",
      "                                  ['files'].\n",
      "  --create-template               Option to create a file get_template.json in\n",
      "                                  your current directory containing CLI\n",
      "                                  arguments. If specified, no other action\n",
      "                                  will be performed.\n",
      "  --request-file PATH             Option to pass a file containing CLI\n",
      "                                  arguments. The file MUST follow the\n",
      "                                  structure of dataclass 'GetRequest'.\n",
      "  --overwrite-metadata-cache      Force to refresh the catalogue by\n",
      "                                  overwriting the local cache.\n",
      "                                  NOTE: This argument is mutually exclusive\n",
      "                                  with arguments: [no_metadata_cache].\n",
      "  --no-metadata-cache             Bypass the use of cache.                \n",
      "                                  NOTE: This argument is mutually exclusive\n",
      "                                  with arguments: [overwrite_metadata_cache].\n",
      "  --filter, --filter-with-globbing-pattern TEXT\n",
      "                                  A pattern that must match the absolute paths\n",
      "                                  of the files to download.\n",
      "  --regex, --filter-with-regular-expression TEXT\n",
      "                                  The regular expression that must match the\n",
      "                                  absolute paths of the files to download.\n",
      "  --file-list PATH                A path to a text file that list filenames\n",
      "                                  line by line. Directly download multiple\n",
      "                                  files using a list of path from a '.txt'\n",
      "                                  file. The files to download have to be from\n",
      "                                  the dataset specified with --dataset-id.If\n",
      "                                  some files are not found, the toolbox will\n",
      "                                  list all the files on the remote server and\n",
      "                                  try to match them.\n",
      "  --create-file-list TEXT         Option to only create a file containing the\n",
      "                                  names of the targeted files instead of\n",
      "                                  downloading them. It writes the file in the\n",
      "                                  directory specified with the --output-\n",
      "                                  directory option (default to current\n",
      "                                  directory). The file name specified should\n",
      "                                  end with '.txt' or '.csv' If specified, no\n",
      "                                  other action will be performed. Please find\n",
      "                                  more information in the README.\n",
      "  --sync                          Option to synchronize the local directory\n",
      "                                  with the remote directory. See the\n",
      "                                  documentation for more details.\n",
      "                                  NOTE: This argument is mutually exclusive\n",
      "                                  with arguments: [no-directories].\n",
      "  --sync-delete                   Option to delete local files that are not\n",
      "                                  present on the remote server while applying\n",
      "                                  sync.                 NOTE: This argument\n",
      "                                  is mutually exclusive with arguments: [no-\n",
      "                                  directories].\n",
      "  --index-parts                   Option to get the index files of an INSITU\n",
      "                                  dataset. Temporary option.\n",
      "  --disable-progress-bar          Flag to hide progress bar.\n",
      "  --log-level [DEBUG|INFO|WARN|ERROR|CRITICAL|QUIET]\n",
      "                                  Set the details printed to console by the\n",
      "                                  command (based on standard logging library).\n",
      "  -h, --help                      Show this message and exit.\n",
      "\n",
      "  Examples:\n",
      "\n",
      "  copernicusmarine get -nd -o data_folder --dataset-id cmems_mod_nws_bgc-pft_myint_7km-3D-diato_P1M-m\n"
     ]
    }
   ],
   "source": [
    "!copernicusmarine get --help"
   ]
  },
  {
   "cell_type": "markdown",
   "id": "5ae100d5-fbea-44e7-9a20-1d9943a3f670",
   "metadata": {},
   "source": [
    "## 2.5. Download with *copernicusmarine.subset*\n",
    "\n",
    "Now we start the real part of this exercise! The `subset` command allows you to download a specific part of the dataset. It ignores the structure of the original product and reshapes all the data into a single file.\n",
    "\n",
    "Using `subset`, we can choose which variables to download and specify the part of the domain. For example, now we will download eleven years of monthly data for the temperature of the Mediterranean Sea around the area of the Strait of Sicily."
   ]
  },
  {
   "cell_type": "code",
   "execution_count": 1,
   "id": "ef782323-6330-4603-9117-b90369af0188",
   "metadata": {},
   "outputs": [
    {
     "name": "stdout",
     "output_type": "stream",
     "text": [
      "ERROR - 2024-06-04T13:40:44Z - Client version 1.2.1 is not compatible with current backend service. Please update to the latest client version.\n",
      "ERROR - 2024-06-04T13:40:44Z - Client version 1.2.1 is not compatible with current backend service. Please update to the latest client version.\n",
      "ERROR - 2024-06-04T13:40:44Z - Client version 1.2.1 is not compatible with current backend service. Please update to the latest client version.\n",
      "INFO - 2024-06-04T13:40:44Z - Dataset version was not specified, the latest one was selected: \"202012\"\n",
      "INFO - 2024-06-04T13:40:44Z - Dataset part was not specified, the first one was selected: \"default\"\n",
      "INFO - 2024-06-04T13:40:45Z - Service was not specified, the default one was selected: \"arco-time-series\"\n",
      "INFO - 2024-06-04T13:40:46Z - Downloading using service arco-time-series...\n",
      "INFO - 2024-06-04T13:40:47Z - Estimated size of the dataset file is 316.184 MB.\n",
      "INFO - 2024-06-04T13:40:47Z - Writing to local storage. Please wait...\n",
      "100%|██████████████████████████████████████| 5938/5938 [00:09<00:00, 606.79it/s]\n",
      "INFO - 2024-06-04T13:40:57Z - Successfully downloaded to data/med-cmcc-tem-rean-m_thetao_11.50E-15.00E_35.02N-36.98N_1.02-5754.04m_2010-01-01-2021-12-01_(1).nc\n"
     ]
    }
   ],
   "source": [
    "!copernicusmarine subset --dataset-id med-cmcc-tem-rean-m \\\n",
    "        --output-directory data \\\n",
    "        --force-download \\\n",
    "        --minimum-longitude 11.5 --maximum-longitude 15 \\\n",
    "        --minimum-latitude 35. --maximum-latitude 37. \\\n",
    "        --start-datetime 2010-01-01 --end-datetime 2021-12-31 \\\n",
    "        --variable thetao"
   ]
  },
  {
   "cell_type": "markdown",
   "id": "a6a1aaeb-b5a8-41a7-9b41-ae046d4c3adb",
   "metadata": {},
   "source": [
    "Now it's your turn! Use what you have just learned to download the chlorophyll data (variable `chl`) from the `med-ogs-pft-rean-m` dataset for the same domain for which we have just downloaded the temperature."
   ]
  },
  {
   "cell_type": "code",
   "execution_count": null,
   "id": "8baff1d3-32e9-40c9-a4c2-e38cfd342d4b",
   "metadata": {},
   "outputs": [],
   "source": []
  },
  {
   "cell_type": "code",
   "execution_count": null,
   "id": "3fc750bf-e884-466f-bfba-cbf70240cc83",
   "metadata": {},
   "outputs": [],
   "source": []
  }
 ],
 "metadata": {
  "kernelspec": {
   "display_name": "Python 3 (ipykernel)",
   "language": "python",
   "name": "python3"
  },
  "language_info": {
   "codemirror_mode": {
    "name": "ipython",
    "version": 3
   },
   "file_extension": ".py",
   "mimetype": "text/x-python",
   "name": "python",
   "nbconvert_exporter": "python",
   "pygments_lexer": "ipython3",
   "version": "3.12.2"
  }
 },
 "nbformat": 4,
 "nbformat_minor": 5
}
